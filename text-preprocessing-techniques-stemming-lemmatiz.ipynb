{
 "cells": [
  {
   "cell_type": "markdown",
   "id": "e2cc56a3",
   "metadata": {
    "papermill": {
     "duration": 0.01009,
     "end_time": "2024-11-24T10:40:11.066304",
     "exception": false,
     "start_time": "2024-11-24T10:40:11.056214",
     "status": "completed"
    },
    "tags": []
   },
   "source": [
    "# Introduction:\n",
    " - Natural Language Processing (NLP) is a key field in artificial intelligence that focuses on analyzing and understanding textual and linguistic data. Proper text preprocessing, including techniques like stemming and lemmatization, is an essential step to ensure accurate and effective results in applications such as text analysis, classification, and sentiment analysis.\n",
    "\n",
    " - In this notebook, we will explore and implement various text preprocessing techniques using the popular NLTK library. We will dive into the differences between tools like the Porter Stemmer, Lancaster Stemmer, and WordNet Lemmatizer, while also experimenting with non-English languages such as Arabic. Additionally, we will demonstrate how to use a custom dictionary to extract roots from text effectively.\n",
    "\n",
    "# Notebook Objectives:\n",
    " 1. Explore stemming and lemmatization techniques using the NLTK library.\n",
    " 2. Apply these techniques to both English and Arabic texts.\n",
    " 3. Compare the performance of different stemming algorithms.\n",
    " 4. Utilize a custom dictionary for root extraction in specific cases.\n",
    " 5. uild a practical understanding of text preprocessing as a critical step in NLP projects."
   ]
  },
  {
   "cell_type": "code",
   "execution_count": 1,
   "id": "38ebb731",
   "metadata": {
    "execution": {
     "iopub.execute_input": "2024-11-24T10:40:11.088303Z",
     "iopub.status.busy": "2024-11-24T10:40:11.087366Z",
     "iopub.status.idle": "2024-11-24T10:40:24.051632Z",
     "shell.execute_reply": "2024-11-24T10:40:24.050408Z"
    },
    "papermill": {
     "duration": 12.978283,
     "end_time": "2024-11-24T10:40:24.053929",
     "exception": false,
     "start_time": "2024-11-24T10:40:11.075646",
     "status": "completed"
    },
    "tags": []
   },
   "outputs": [
    {
     "name": "stdout",
     "output_type": "stream",
     "text": [
      "Requirement already satisfied: nltk in /opt/conda/lib/python3.10/site-packages (3.2.4)\r\n",
      "Collecting nltk\r\n",
      "  Downloading nltk-3.9.1-py3-none-any.whl.metadata (2.9 kB)\r\n",
      "Requirement already satisfied: click in /opt/conda/lib/python3.10/site-packages (from nltk) (8.1.7)\r\n",
      "Requirement already satisfied: joblib in /opt/conda/lib/python3.10/site-packages (from nltk) (1.4.2)\r\n",
      "Requirement already satisfied: regex>=2021.8.3 in /opt/conda/lib/python3.10/site-packages (from nltk) (2024.5.15)\r\n",
      "Requirement already satisfied: tqdm in /opt/conda/lib/python3.10/site-packages (from nltk) (4.66.4)\r\n",
      "Downloading nltk-3.9.1-py3-none-any.whl (1.5 MB)\r\n",
      "\u001b[2K   \u001b[90m━━━━━━━━━━━━━━━━━━━━━━━━━━━━━━━━━━━━━━━━\u001b[0m \u001b[32m1.5/1.5 MB\u001b[0m \u001b[31m17.3 MB/s\u001b[0m eta \u001b[36m0:00:00\u001b[0m\r\n",
      "\u001b[?25hInstalling collected packages: nltk\r\n",
      "  Attempting uninstall: nltk\r\n",
      "    Found existing installation: nltk 3.2.4\r\n",
      "    Uninstalling nltk-3.2.4:\r\n",
      "      Successfully uninstalled nltk-3.2.4\r\n",
      "\u001b[31mERROR: pip's dependency resolver does not currently take into account all the packages that are installed. This behaviour is the source of the following dependency conflicts.\r\n",
      "preprocessing 0.1.13 requires nltk==3.2.4, but you have nltk 3.9.1 which is incompatible.\u001b[0m\u001b[31m\r\n",
      "\u001b[0mSuccessfully installed nltk-3.9.1\r\n",
      "Note: you may need to restart the kernel to use updated packages.\n"
     ]
    }
   ],
   "source": [
    "pip install --upgrade nltk"
   ]
  },
  {
   "cell_type": "code",
   "execution_count": 2,
   "id": "65ffb9cf",
   "metadata": {
    "execution": {
     "iopub.execute_input": "2024-11-24T10:40:24.075650Z",
     "iopub.status.busy": "2024-11-24T10:40:24.075250Z",
     "iopub.status.idle": "2024-11-24T10:40:26.280138Z",
     "shell.execute_reply": "2024-11-24T10:40:26.279120Z"
    },
    "executionInfo": {
     "elapsed": 1702,
     "status": "ok",
     "timestamp": 1732441771735,
     "user": {
      "displayName": "Ahmed Lotfy",
      "userId": "06695974026339219292"
     },
     "user_tz": -120
    },
    "id": "aO_Jr3Hvqb_W",
    "outputId": "fe8291ac-1e99-4173-a6fa-455518ac2a3d",
    "papermill": {
     "duration": 2.218696,
     "end_time": "2024-11-24T10:40:26.282614",
     "exception": false,
     "start_time": "2024-11-24T10:40:24.063918",
     "status": "completed"
    },
    "tags": []
   },
   "outputs": [
    {
     "name": "stderr",
     "output_type": "stream",
     "text": [
      "[nltk_data] Downloading package punkt to /usr/share/nltk_data...\n",
      "[nltk_data]   Package punkt is already up-to-date!\n",
      "[nltk_data] Downloading package wordnet to /usr/share/nltk_data...\n",
      "[nltk_data]   Package wordnet is already up-to-date!\n"
     ]
    }
   ],
   "source": [
    "import nltk\n",
    "\n",
    "nltk.download('punkt')\n",
    "\n",
    "nltk.download('wordnet')\n",
    "\n",
    "from nltk.stem.porter import *\n",
    "\n",
    "p_stemmer = PorterStemmer()"
   ]
  },
  {
   "cell_type": "code",
   "execution_count": 3,
   "id": "6a83a0eb",
   "metadata": {
    "execution": {
     "iopub.execute_input": "2024-11-24T10:40:26.304961Z",
     "iopub.status.busy": "2024-11-24T10:40:26.304171Z",
     "iopub.status.idle": "2024-11-24T10:40:26.857212Z",
     "shell.execute_reply": "2024-11-24T10:40:26.856094Z"
    },
    "executionInfo": {
     "elapsed": 576,
     "status": "ok",
     "timestamp": 1732441772308,
     "user": {
      "displayName": "Ahmed Lotfy",
      "userId": "06695974026339219292"
     },
     "user_tz": -120
    },
    "id": "syY-o-SCr3no",
    "outputId": "f440dd02-f3dc-486d-c112-1f4e333cb747",
    "papermill": {
     "duration": 0.566593,
     "end_time": "2024-11-24T10:40:26.859529",
     "exception": false,
     "start_time": "2024-11-24T10:40:26.292936",
     "status": "completed"
    },
    "tags": []
   },
   "outputs": [
    {
     "name": "stderr",
     "output_type": "stream",
     "text": [
      "[nltk_data] Downloading package punkt_tab to /usr/share/nltk_data...\n",
      "[nltk_data]   Unzipping tokenizers/punkt_tab.zip.\n"
     ]
    },
    {
     "data": {
      "text/plain": [
       "True"
      ]
     },
     "execution_count": 3,
     "metadata": {},
     "output_type": "execute_result"
    }
   ],
   "source": [
    "nltk.download('punkt_tab')"
   ]
  },
  {
   "cell_type": "code",
   "execution_count": 4,
   "id": "048a17a9",
   "metadata": {
    "execution": {
     "iopub.execute_input": "2024-11-24T10:40:26.881441Z",
     "iopub.status.busy": "2024-11-24T10:40:26.880732Z",
     "iopub.status.idle": "2024-11-24T10:40:26.983653Z",
     "shell.execute_reply": "2024-11-24T10:40:26.982644Z"
    },
    "executionInfo": {
     "elapsed": 15,
     "status": "ok",
     "timestamp": 1732441772308,
     "user": {
      "displayName": "Ahmed Lotfy",
      "userId": "06695974026339219292"
     },
     "user_tz": -120
    },
    "id": "Z7x-yfLzro-X",
    "outputId": "52efd6b0-afdb-4720-8624-9e6fb507169e",
    "papermill": {
     "duration": 0.116337,
     "end_time": "2024-11-24T10:40:26.985951",
     "exception": false,
     "start_time": "2024-11-24T10:40:26.869614",
     "status": "completed"
    },
    "tags": []
   },
   "outputs": [
    {
     "name": "stdout",
     "output_type": "stream",
     "text": [
      "I --> i\n",
      "am --> am\n",
      "running --> run\n",
      "towards --> toward\n",
      "the --> the\n",
      "park --> park\n",
      ", --> ,\n",
      "and --> and\n",
      "I --> i\n",
      "have --> have\n",
      "been --> been\n",
      "running --> run\n",
      "for --> for\n",
      "an --> an\n",
      "hour --> hour\n",
      ". --> .\n"
     ]
    }
   ],
   "source": [
    "text = \"I am running towards the park, and I have been running for an hour.\"\n",
    "\n",
    "words = nltk.word_tokenize(text)\n",
    "\n",
    "for word in words:\n",
    "\n",
    "    print(word+' --> '+p_stemmer.stem(word))"
   ]
  },
  {
   "cell_type": "code",
   "execution_count": 5,
   "id": "8d8f16cb",
   "metadata": {
    "execution": {
     "iopub.execute_input": "2024-11-24T10:40:27.008342Z",
     "iopub.status.busy": "2024-11-24T10:40:27.007600Z",
     "iopub.status.idle": "2024-11-24T10:40:27.013346Z",
     "shell.execute_reply": "2024-11-24T10:40:27.012428Z"
    },
    "executionInfo": {
     "elapsed": 12,
     "status": "ok",
     "timestamp": 1732441772308,
     "user": {
      "displayName": "Ahmed Lotfy",
      "userId": "06695974026339219292"
     },
     "user_tz": -120
    },
    "id": "hIXWT58AC550",
    "outputId": "8b31378b-ce5f-4cd3-bceb-9191e9d046f3",
    "papermill": {
     "duration": 0.019315,
     "end_time": "2024-11-24T10:40:27.015672",
     "exception": false,
     "start_time": "2024-11-24T10:40:26.996357",
     "status": "completed"
    },
    "tags": []
   },
   "outputs": [
    {
     "name": "stdout",
     "output_type": "stream",
     "text": [
      "run --> run\n",
      "runner --> runner\n",
      "running --> run\n",
      "ran --> ran\n",
      "runs --> run\n",
      "easily --> easili\n",
      "fairly --> fair\n"
     ]
    }
   ],
   "source": [
    "from nltk.stem.snowball import SnowballStemmer\n",
    "\n",
    "s_stemmer = SnowballStemmer(language='english')\n",
    "\n",
    "\n",
    "\n",
    "words = ['run','runner','running','ran','runs','easily','fairly']\n",
    "\n",
    "\n",
    "\n",
    "for word in words:\n",
    "\n",
    "    print(word+' --> '+s_stemmer.stem(word))"
   ]
  },
  {
   "cell_type": "code",
   "execution_count": 6,
   "id": "90fadb96",
   "metadata": {
    "execution": {
     "iopub.execute_input": "2024-11-24T10:40:27.037669Z",
     "iopub.status.busy": "2024-11-24T10:40:27.036854Z",
     "iopub.status.idle": "2024-11-24T10:40:27.042649Z",
     "shell.execute_reply": "2024-11-24T10:40:27.041733Z"
    },
    "executionInfo": {
     "elapsed": 11,
     "status": "ok",
     "timestamp": 1732441772309,
     "user": {
      "displayName": "Ahmed Lotfy",
      "userId": "06695974026339219292"
     },
     "user_tz": -120
    },
    "id": "HXJM_kafyiHU",
    "outputId": "9d892b78-4d31-4549-ea09-d54e4c084ae4",
    "papermill": {
     "duration": 0.019036,
     "end_time": "2024-11-24T10:40:27.044795",
     "exception": false,
     "start_time": "2024-11-24T10:40:27.025759",
     "status": "completed"
    },
    "tags": []
   },
   "outputs": [
    {
     "name": "stdout",
     "output_type": "stream",
     "text": [
      "generous --> generous\n",
      "generous --> gener\n",
      "---------------------------------------\n",
      "generation --> generat\n",
      "generation --> gener\n",
      "---------------------------------------\n",
      "generously --> generous\n",
      "generously --> gener\n",
      "---------------------------------------\n",
      "generate --> generat\n",
      "generate --> gener\n",
      "---------------------------------------\n"
     ]
    }
   ],
   "source": [
    "words = ['generous','generation','generously','generate']\n",
    "\n",
    "\n",
    "\n",
    "for word in words:\n",
    "\n",
    "    print(word+' --> '+s_stemmer.stem(word))\n",
    "\n",
    "    print(word+' --> '+p_stemmer.stem(word))\n",
    "\n",
    "    print('---------------------------------------')"
   ]
  },
  {
   "cell_type": "code",
   "execution_count": 7,
   "id": "33f745f2",
   "metadata": {
    "execution": {
     "iopub.execute_input": "2024-11-24T10:40:27.067567Z",
     "iopub.status.busy": "2024-11-24T10:40:27.067158Z",
     "iopub.status.idle": "2024-11-24T10:40:27.071983Z",
     "shell.execute_reply": "2024-11-24T10:40:27.071081Z"
    },
    "executionInfo": {
     "elapsed": 10,
     "status": "ok",
     "timestamp": 1732441772309,
     "user": {
      "displayName": "Ahmed Lotfy",
      "userId": "06695974026339219292"
     },
     "user_tz": -120
    },
    "id": "fx_AamDSyujh",
    "papermill": {
     "duration": 0.018348,
     "end_time": "2024-11-24T10:40:27.073919",
     "exception": false,
     "start_time": "2024-11-24T10:40:27.055571",
     "status": "completed"
    },
    "tags": []
   },
   "outputs": [],
   "source": [
    "from nltk.stem import PorterStemmer , LancasterStemmer\n",
    "\n",
    "from nltk.tokenize import sent_tokenize, word_tokenize\n",
    "\n",
    "\n",
    "\n",
    "ps = PorterStemmer()\n",
    "\n",
    "ls =  LancasterStemmer()"
   ]
  },
  {
   "cell_type": "code",
   "execution_count": 8,
   "id": "c7efaa54",
   "metadata": {
    "execution": {
     "iopub.execute_input": "2024-11-24T10:40:27.096464Z",
     "iopub.status.busy": "2024-11-24T10:40:27.096085Z",
     "iopub.status.idle": "2024-11-24T10:40:27.100612Z",
     "shell.execute_reply": "2024-11-24T10:40:27.099643Z"
    },
    "executionInfo": {
     "elapsed": 9,
     "status": "ok",
     "timestamp": 1732441772309,
     "user": {
      "displayName": "Ahmed Lotfy",
      "userId": "06695974026339219292"
     },
     "user_tz": -120
    },
    "id": "koV5BYmHy30w",
    "papermill": {
     "duration": 0.018084,
     "end_time": "2024-11-24T10:40:27.102491",
     "exception": false,
     "start_time": "2024-11-24T10:40:27.084407",
     "status": "completed"
    },
    "tags": []
   },
   "outputs": [],
   "source": [
    "words = [\"is\",\"was\",\"be\",\"been\",\"are\",\"were\"]"
   ]
  },
  {
   "cell_type": "code",
   "execution_count": 9,
   "id": "73477760",
   "metadata": {
    "execution": {
     "iopub.execute_input": "2024-11-24T10:40:27.124830Z",
     "iopub.status.busy": "2024-11-24T10:40:27.124476Z",
     "iopub.status.idle": "2024-11-24T10:40:27.129579Z",
     "shell.execute_reply": "2024-11-24T10:40:27.128668Z"
    },
    "executionInfo": {
     "elapsed": 9,
     "status": "ok",
     "timestamp": 1732441772309,
     "user": {
      "displayName": "Ahmed Lotfy",
      "userId": "06695974026339219292"
     },
     "user_tz": -120
    },
    "id": "K_MA-hSHzr5O",
    "outputId": "9ce86d77-388a-4e04-f88e-9a4295ccccc7",
    "papermill": {
     "duration": 0.018686,
     "end_time": "2024-11-24T10:40:27.131693",
     "exception": false,
     "start_time": "2024-11-24T10:40:27.113007",
     "status": "completed"
    },
    "tags": []
   },
   "outputs": [
    {
     "name": "stdout",
     "output_type": "stream",
     "text": [
      "Word  is    has setmming      is\n",
      "Word  was    has setmming      wa\n",
      "Word  be    has setmming      be\n",
      "Word  been    has setmming      been\n",
      "Word  are    has setmming      are\n",
      "Word  were    has setmming      were\n"
     ]
    }
   ],
   "source": [
    "for w in words:\n",
    "\n",
    "    print(f'Word  {w}    has setmming      {ps.stem(w)}')"
   ]
  },
  {
   "cell_type": "code",
   "execution_count": 10,
   "id": "80567b87",
   "metadata": {
    "execution": {
     "iopub.execute_input": "2024-11-24T10:40:27.153890Z",
     "iopub.status.busy": "2024-11-24T10:40:27.153530Z",
     "iopub.status.idle": "2024-11-24T10:40:27.159245Z",
     "shell.execute_reply": "2024-11-24T10:40:27.158278Z"
    },
    "executionInfo": {
     "elapsed": 8,
     "status": "ok",
     "timestamp": 1732441772309,
     "user": {
      "displayName": "Ahmed Lotfy",
      "userId": "06695974026339219292"
     },
     "user_tz": -120
    },
    "id": "HjYpgfWRz1QX",
    "outputId": "f39229c6-7f28-48e3-aa5c-0246106bbb4b",
    "papermill": {
     "duration": 0.019123,
     "end_time": "2024-11-24T10:40:27.161212",
     "exception": false,
     "start_time": "2024-11-24T10:40:27.142089",
     "status": "completed"
    },
    "tags": []
   },
   "outputs": [
    {
     "name": "stdout",
     "output_type": "stream",
     "text": [
      "Word  is    has setmming      is\n",
      "Word  was    has setmming      was\n",
      "Word  be    has setmming      be\n",
      "Word  been    has setmming      been\n",
      "Word  are    has setmming      ar\n",
      "Word  were    has setmming      wer\n"
     ]
    }
   ],
   "source": [
    "for w in words:\n",
    "\n",
    "    print(f'Word  {w}    has setmming      {ls.stem(w)}')"
   ]
  },
  {
   "cell_type": "code",
   "execution_count": 11,
   "id": "d3df1b06",
   "metadata": {
    "execution": {
     "iopub.execute_input": "2024-11-24T10:40:27.184051Z",
     "iopub.status.busy": "2024-11-24T10:40:27.183445Z",
     "iopub.status.idle": "2024-11-24T10:40:27.187878Z",
     "shell.execute_reply": "2024-11-24T10:40:27.186946Z"
    },
    "executionInfo": {
     "elapsed": 7,
     "status": "ok",
     "timestamp": 1732441772309,
     "user": {
      "displayName": "Ahmed Lotfy",
      "userId": "06695974026339219292"
     },
     "user_tz": -120
    },
    "id": "z65YzzJ10H1Y",
    "papermill": {
     "duration": 0.018001,
     "end_time": "2024-11-24T10:40:27.189764",
     "exception": false,
     "start_time": "2024-11-24T10:40:27.171763",
     "status": "completed"
    },
    "tags": []
   },
   "outputs": [],
   "source": [
    "words = [\"book\",\"booking\",\"booked\",\"books\",\"booker\",\"bookstore\"]"
   ]
  },
  {
   "cell_type": "code",
   "execution_count": 12,
   "id": "a08a19c9",
   "metadata": {
    "execution": {
     "iopub.execute_input": "2024-11-24T10:40:27.212924Z",
     "iopub.status.busy": "2024-11-24T10:40:27.212568Z",
     "iopub.status.idle": "2024-11-24T10:40:27.217722Z",
     "shell.execute_reply": "2024-11-24T10:40:27.216752Z"
    },
    "executionInfo": {
     "elapsed": 6,
     "status": "ok",
     "timestamp": 1732441772309,
     "user": {
      "displayName": "Ahmed Lotfy",
      "userId": "06695974026339219292"
     },
     "user_tz": -120
    },
    "id": "Q2vyQlui0N6X",
    "outputId": "c0a9faf1-ac47-4f54-cbba-fe05a9b3c299",
    "papermill": {
     "duration": 0.019111,
     "end_time": "2024-11-24T10:40:27.219807",
     "exception": false,
     "start_time": "2024-11-24T10:40:27.200696",
     "status": "completed"
    },
    "tags": []
   },
   "outputs": [
    {
     "name": "stdout",
     "output_type": "stream",
     "text": [
      "Word  book    has setmming      book\n",
      "Word  booking    has setmming      book\n",
      "Word  booked    has setmming      book\n",
      "Word  books    has setmming      book\n",
      "Word  booker    has setmming      booker\n",
      "Word  bookstore    has setmming      bookstor\n"
     ]
    }
   ],
   "source": [
    "for w in words:\n",
    "\n",
    "    print(f'Word  {w}    has setmming      {ps.stem(w)}')"
   ]
  },
  {
   "cell_type": "code",
   "execution_count": 13,
   "id": "755d783c",
   "metadata": {
    "execution": {
     "iopub.execute_input": "2024-11-24T10:40:27.242415Z",
     "iopub.status.busy": "2024-11-24T10:40:27.242028Z",
     "iopub.status.idle": "2024-11-24T10:40:27.247419Z",
     "shell.execute_reply": "2024-11-24T10:40:27.246497Z"
    },
    "executionInfo": {
     "elapsed": 5,
     "status": "ok",
     "timestamp": 1732441772309,
     "user": {
      "displayName": "Ahmed Lotfy",
      "userId": "06695974026339219292"
     },
     "user_tz": -120
    },
    "id": "B1cJZT2K0QVQ",
    "outputId": "d351011c-1368-4d8c-dca1-206f7a9be638",
    "papermill": {
     "duration": 0.019181,
     "end_time": "2024-11-24T10:40:27.249565",
     "exception": false,
     "start_time": "2024-11-24T10:40:27.230384",
     "status": "completed"
    },
    "tags": []
   },
   "outputs": [
    {
     "name": "stdout",
     "output_type": "stream",
     "text": [
      "Word  book    has setmming      book\n",
      "Word  booking    has setmming      book\n",
      "Word  booked    has setmming      book\n",
      "Word  books    has setmming      book\n",
      "Word  booker    has setmming      book\n",
      "Word  bookstore    has setmming      bookst\n"
     ]
    }
   ],
   "source": [
    "for w in words:\n",
    "\n",
    "    print(f'Word  {w}    has setmming      {ls.stem(w)}')"
   ]
  },
  {
   "cell_type": "code",
   "execution_count": 14,
   "id": "5ed2c20f",
   "metadata": {
    "execution": {
     "iopub.execute_input": "2024-11-24T10:40:27.273908Z",
     "iopub.status.busy": "2024-11-24T10:40:27.273539Z",
     "iopub.status.idle": "2024-11-24T10:40:27.277917Z",
     "shell.execute_reply": "2024-11-24T10:40:27.276994Z"
    },
    "executionInfo": {
     "elapsed": 5,
     "status": "ok",
     "timestamp": 1732441772310,
     "user": {
      "displayName": "Ahmed Lotfy",
      "userId": "06695974026339219292"
     },
     "user_tz": -120
    },
    "id": "7K9Lo0Bk0TLv",
    "papermill": {
     "duration": 0.017892,
     "end_time": "2024-11-24T10:40:27.279895",
     "exception": false,
     "start_time": "2024-11-24T10:40:27.262003",
     "status": "completed"
    },
    "tags": []
   },
   "outputs": [],
   "source": [
    "sentence = 'had you booked the air booking yet ? if not try to book it ASAP since booking will be out of books'"
   ]
  },
  {
   "cell_type": "code",
   "execution_count": 15,
   "id": "9b9cf8a6",
   "metadata": {
    "execution": {
     "iopub.execute_input": "2024-11-24T10:40:27.302369Z",
     "iopub.status.busy": "2024-11-24T10:40:27.301983Z",
     "iopub.status.idle": "2024-11-24T10:40:27.308886Z",
     "shell.execute_reply": "2024-11-24T10:40:27.307940Z"
    },
    "executionInfo": {
     "elapsed": 324,
     "status": "ok",
     "timestamp": 1732441772629,
     "user": {
      "displayName": "Ahmed Lotfy",
      "userId": "06695974026339219292"
     },
     "user_tz": -120
    },
    "id": "DvTQvkjC1U-b",
    "outputId": "ba0bc480-92a4-4718-fce1-e397ae147378",
    "papermill": {
     "duration": 0.021074,
     "end_time": "2024-11-24T10:40:27.311438",
     "exception": false,
     "start_time": "2024-11-24T10:40:27.290364",
     "status": "completed"
    },
    "tags": []
   },
   "outputs": [
    {
     "name": "stdout",
     "output_type": "stream",
     "text": [
      "Word  had    has setmming      had\n",
      "Word  you    has setmming      you\n",
      "Word  booked    has setmming      book\n",
      "Word  the    has setmming      the\n",
      "Word  air    has setmming      air\n",
      "Word  booking    has setmming      book\n",
      "Word  yet    has setmming      yet\n",
      "Word  ?    has setmming      ?\n",
      "Word  if    has setmming      if\n",
      "Word  not    has setmming      not\n",
      "Word  try    has setmming      tri\n",
      "Word  to    has setmming      to\n",
      "Word  book    has setmming      book\n",
      "Word  it    has setmming      it\n",
      "Word  ASAP    has setmming      asap\n",
      "Word  since    has setmming      sinc\n",
      "Word  booking    has setmming      book\n",
      "Word  will    has setmming      will\n",
      "Word  be    has setmming      be\n",
      "Word  out    has setmming      out\n",
      "Word  of    has setmming      of\n",
      "Word  books    has setmming      book\n"
     ]
    }
   ],
   "source": [
    "words = word_tokenize(sentence)\n",
    "\n",
    "for w in words:\n",
    "\n",
    "    print(f'Word  {w}    has setmming      {ps.stem(w)}')"
   ]
  },
  {
   "cell_type": "code",
   "execution_count": 16,
   "id": "56cb502c",
   "metadata": {
    "execution": {
     "iopub.execute_input": "2024-11-24T10:40:27.334403Z",
     "iopub.status.busy": "2024-11-24T10:40:27.334022Z",
     "iopub.status.idle": "2024-11-24T10:40:27.339240Z",
     "shell.execute_reply": "2024-11-24T10:40:27.338308Z"
    },
    "executionInfo": {
     "elapsed": 6,
     "status": "ok",
     "timestamp": 1732441772630,
     "user": {
      "displayName": "Ahmed Lotfy",
      "userId": "06695974026339219292"
     },
     "user_tz": -120
    },
    "id": "E1wdnRF11ZQg",
    "outputId": "70c32ec0-f91d-4f3e-fc81-4932631bea4a",
    "papermill": {
     "duration": 0.019533,
     "end_time": "2024-11-24T10:40:27.341724",
     "exception": false,
     "start_time": "2024-11-24T10:40:27.322191",
     "status": "completed"
    },
    "tags": []
   },
   "outputs": [
    {
     "name": "stdout",
     "output_type": "stream",
     "text": [
      "Word  had    has setmming      had\n",
      "Word  you    has setmming      you\n",
      "Word  booked    has setmming      book\n",
      "Word  the    has setmming      the\n",
      "Word  air    has setmming      air\n",
      "Word  booking    has setmming      book\n",
      "Word  yet    has setmming      yet\n",
      "Word  ?    has setmming      ?\n",
      "Word  if    has setmming      if\n",
      "Word  not    has setmming      not\n",
      "Word  try    has setmming      try\n",
      "Word  to    has setmming      to\n",
      "Word  book    has setmming      book\n",
      "Word  it    has setmming      it\n",
      "Word  ASAP    has setmming      asap\n",
      "Word  since    has setmming      sint\n",
      "Word  booking    has setmming      book\n",
      "Word  will    has setmming      wil\n",
      "Word  be    has setmming      be\n",
      "Word  out    has setmming      out\n",
      "Word  of    has setmming      of\n",
      "Word  books    has setmming      book\n"
     ]
    }
   ],
   "source": [
    "for w in words:\n",
    "\n",
    "    print(f'Word  {w}    has setmming      {ls.stem(w)}')"
   ]
  },
  {
   "cell_type": "code",
   "execution_count": 17,
   "id": "3764f35a",
   "metadata": {
    "execution": {
     "iopub.execute_input": "2024-11-24T10:40:27.364730Z",
     "iopub.status.busy": "2024-11-24T10:40:27.364369Z",
     "iopub.status.idle": "2024-11-24T10:40:27.370504Z",
     "shell.execute_reply": "2024-11-24T10:40:27.369662Z"
    },
    "executionInfo": {
     "elapsed": 4,
     "status": "ok",
     "timestamp": 1732441772630,
     "user": {
      "displayName": "Ahmed Lotfy",
      "userId": "06695974026339219292"
     },
     "user_tz": -120
    },
    "id": "dYM1eguaC555",
    "outputId": "75b592ee-0961-4ff3-8cdf-db57a3a20c25",
    "papermill": {
     "duration": 0.020809,
     "end_time": "2024-11-24T10:40:27.373330",
     "exception": false,
     "start_time": "2024-11-24T10:40:27.352521",
     "status": "completed"
    },
    "tags": []
   },
   "outputs": [
    {
     "name": "stdout",
     "output_type": "stream",
     "text": [
      "Word                Porter Stemmer      lancaster Stemmer   \n",
      "friend              friend              friend              \n",
      "friendship          friendship          friend              \n",
      "friends             friend              friend              \n",
      "friendships         friendship          friend              \n",
      "stabil              stabil              stabl               \n",
      "destabilize         destabil            dest                \n",
      "misunderstanding    misunderstand       misunderstand       \n",
      "railroad            railroad            railroad            \n",
      "moonlight           moonlight           moonlight           \n",
      "football            footbal             footbal             \n"
     ]
    }
   ],
   "source": [
    "word_list = [\"friend\", \"friendship\", \"friends\", \"friendships\",\"stabil\",\"destabilize\",\"misunderstanding\",\n",
    "\n",
    "             \"railroad\",\"moonlight\",\"football\"]\n",
    "\n",
    "print(\"{0:20}{1:20}{2:20}\".format(\"Word\",\"Porter Stemmer\",\"lancaster Stemmer\"))\n",
    "\n",
    "for word in word_list:\n",
    "\n",
    "    print(\"{0:20}{1:20}{2:20}\".format(word,ps.stem(word),ls.stem(word)))"
   ]
  },
  {
   "cell_type": "code",
   "execution_count": 18,
   "id": "4ba450d4",
   "metadata": {
    "execution": {
     "iopub.execute_input": "2024-11-24T10:40:27.396654Z",
     "iopub.status.busy": "2024-11-24T10:40:27.396296Z",
     "iopub.status.idle": "2024-11-24T10:40:28.096154Z",
     "shell.execute_reply": "2024-11-24T10:40:28.095344Z"
    },
    "papermill": {
     "duration": 0.714102,
     "end_time": "2024-11-24T10:40:28.098493",
     "exception": false,
     "start_time": "2024-11-24T10:40:27.384391",
     "status": "completed"
    },
    "tags": []
   },
   "outputs": [
    {
     "name": "stderr",
     "output_type": "stream",
     "text": [
      "[nltk_data] Downloading package omw-1.4 to /usr/share/nltk_data...\n"
     ]
    }
   ],
   "source": [
    "nltk.download('omw-1.4')\n",
    "nltk.data.path.append('/path/to/custom/nltk_data')"
   ]
  },
  {
   "cell_type": "code",
   "execution_count": 19,
   "id": "1ba47ce6",
   "metadata": {
    "execution": {
     "iopub.execute_input": "2024-11-24T10:40:28.122048Z",
     "iopub.status.busy": "2024-11-24T10:40:28.121672Z",
     "iopub.status.idle": "2024-11-24T10:40:28.126274Z",
     "shell.execute_reply": "2024-11-24T10:40:28.125412Z"
    },
    "executionInfo": {
     "elapsed": 3,
     "status": "ok",
     "timestamp": 1732441772630,
     "user": {
      "displayName": "Ahmed Lotfy",
      "userId": "06695974026339219292"
     },
     "user_tz": -120
    },
    "id": "du4l5OuOAZuU",
    "papermill": {
     "duration": 0.018601,
     "end_time": "2024-11-24T10:40:28.128084",
     "exception": false,
     "start_time": "2024-11-24T10:40:28.109483",
     "status": "completed"
    },
    "tags": []
   },
   "outputs": [],
   "source": [
    "from nltk.stem import WordNetLemmatizer\n",
    "\n",
    "lemmatizer = WordNetLemmatizer()"
   ]
  },
  {
   "cell_type": "code",
   "execution_count": 20,
   "id": "1c0b9c58",
   "metadata": {
    "execution": {
     "iopub.execute_input": "2024-11-24T10:40:28.151750Z",
     "iopub.status.busy": "2024-11-24T10:40:28.151365Z",
     "iopub.status.idle": "2024-11-24T10:40:31.717211Z",
     "shell.execute_reply": "2024-11-24T10:40:31.716127Z"
    },
    "executionInfo": {
     "elapsed": 13,
     "status": "ok",
     "timestamp": 1732441778508,
     "user": {
      "displayName": "Ahmed Lotfy",
      "userId": "06695974026339219292"
     },
     "user_tz": -120
    },
    "id": "_iqGZ-OyBHp2",
    "outputId": "53c91a2a-53bc-43b1-8e17-10ae22947055",
    "papermill": {
     "duration": 3.580263,
     "end_time": "2024-11-24T10:40:31.719374",
     "exception": false,
     "start_time": "2024-11-24T10:40:28.139111",
     "status": "completed"
    },
    "tags": []
   },
   "outputs": [
    {
     "name": "stdout",
     "output_type": "stream",
     "text": [
      "cat\n",
      "cactus\n",
      "radius\n",
      "foot\n",
      "speech\n",
      "runner\n"
     ]
    }
   ],
   "source": [
    "words = [\"cats\",\"cacti\",\"radii\",\"feet\",\"speech\",'runner']\n",
    "\n",
    "\n",
    "\n",
    "for word in words :\n",
    "\n",
    "    print(lemmatizer.lemmatize(word))"
   ]
  },
  {
   "cell_type": "code",
   "execution_count": 21,
   "id": "fb95e833",
   "metadata": {
    "execution": {
     "iopub.execute_input": "2024-11-24T10:40:31.743355Z",
     "iopub.status.busy": "2024-11-24T10:40:31.742949Z",
     "iopub.status.idle": "2024-11-24T10:40:31.750368Z",
     "shell.execute_reply": "2024-11-24T10:40:31.749410Z"
    },
    "executionInfo": {
     "elapsed": 12,
     "status": "ok",
     "timestamp": 1732441778508,
     "user": {
      "displayName": "Ahmed Lotfy",
      "userId": "06695974026339219292"
     },
     "user_tz": -120
    },
    "id": "vlDnoo25C558",
    "outputId": "882d9a61-477e-48b1-89bf-896b95553015",
    "papermill": {
     "duration": 0.021558,
     "end_time": "2024-11-24T10:40:31.752389",
     "exception": false,
     "start_time": "2024-11-24T10:40:31.730831",
     "status": "completed"
    },
    "tags": []
   },
   "outputs": [
    {
     "name": "stdout",
     "output_type": "stream",
     "text": [
      "Word                Lemma               \n",
      "He                  He                  \n",
      "was                 wa                  \n",
      "running             running             \n",
      "and                 and                 \n",
      "eating              eating              \n",
      "at                  at                  \n",
      "same                same                \n",
      "time                time                \n",
      "He                  He                  \n",
      "has                 ha                  \n",
      "bad                 bad                 \n",
      "habit               habit               \n",
      "of                  of                  \n",
      "swimming            swimming            \n",
      "after               after               \n",
      "playing             playing             \n",
      "long                long                \n",
      "hours               hour                \n",
      "in                  in                  \n",
      "the                 the                 \n",
      "Sun                 Sun                 \n"
     ]
    }
   ],
   "source": [
    "import nltk\n",
    "\n",
    "from nltk.stem import WordNetLemmatizer\n",
    "\n",
    "wordnet_lemmatizer = WordNetLemmatizer()\n",
    "\n",
    "\n",
    "\n",
    "sentence = \"He was running and eating at same time. He has bad habit of swimming after playing long hours in the Sun.\"\n",
    "\n",
    "punctuations=\"?:!.,;\"\n",
    "\n",
    "sentence_words = nltk.word_tokenize(sentence)\n",
    "\n",
    "for word in sentence_words:\n",
    "\n",
    "    if word in punctuations:\n",
    "\n",
    "        sentence_words.remove(word)\n",
    "\n",
    "\n",
    "\n",
    "sentence_words\n",
    "\n",
    "print(\"{0:20}{1:20}\".format(\"Word\",\"Lemma\"))\n",
    "\n",
    "for word in sentence_words:\n",
    "\n",
    "    print (\"{0:20}{1:20}\".format(word,wordnet_lemmatizer.lemmatize(word)))"
   ]
  },
  {
   "cell_type": "code",
   "execution_count": 22,
   "id": "c65f6fbb",
   "metadata": {
    "execution": {
     "iopub.execute_input": "2024-11-24T10:40:31.776360Z",
     "iopub.status.busy": "2024-11-24T10:40:31.775484Z",
     "iopub.status.idle": "2024-11-24T10:40:31.780911Z",
     "shell.execute_reply": "2024-11-24T10:40:31.780006Z"
    },
    "executionInfo": {
     "elapsed": 11,
     "status": "ok",
     "timestamp": 1732441778508,
     "user": {
      "displayName": "Ahmed Lotfy",
      "userId": "06695974026339219292"
     },
     "user_tz": -120
    },
    "id": "yJ_ZbgC2C558",
    "outputId": "b33a736d-64c4-48f9-d0bb-f0a520b8578f",
    "papermill": {
     "duration": 0.019727,
     "end_time": "2024-11-24T10:40:31.783137",
     "exception": false,
     "start_time": "2024-11-24T10:40:31.763410",
     "status": "completed"
    },
    "tags": []
   },
   "outputs": [
    {
     "name": "stdout",
     "output_type": "stream",
     "text": [
      "He                  He                  \n",
      "was                 be                  \n",
      "running             run                 \n",
      "and                 and                 \n",
      "eating              eat                 \n",
      "at                  at                  \n",
      "same                same                \n",
      "time                time                \n",
      "He                  He                  \n",
      "has                 have                \n",
      "bad                 bad                 \n",
      "habit               habit               \n",
      "of                  of                  \n",
      "swimming            swim                \n",
      "after               after               \n",
      "playing             play                \n",
      "long                long                \n",
      "hours               hours               \n",
      "in                  in                  \n",
      "the                 the                 \n",
      "Sun                 Sun                 \n"
     ]
    }
   ],
   "source": [
    "for word in sentence_words:\n",
    "\n",
    "    print (\"{0:20}{1:20}\".format(word,wordnet_lemmatizer.lemmatize(word, pos=\"v\")))"
   ]
  },
  {
   "cell_type": "code",
   "execution_count": 23,
   "id": "fbe7f601",
   "metadata": {
    "execution": {
     "iopub.execute_input": "2024-11-24T10:40:31.807004Z",
     "iopub.status.busy": "2024-11-24T10:40:31.806648Z",
     "iopub.status.idle": "2024-11-24T10:40:31.812439Z",
     "shell.execute_reply": "2024-11-24T10:40:31.811399Z"
    },
    "executionInfo": {
     "elapsed": 9,
     "status": "ok",
     "timestamp": 1732441778508,
     "user": {
      "displayName": "Ahmed Lotfy",
      "userId": "06695974026339219292"
     },
     "user_tz": -120
    },
    "id": "87uiMh4FC558",
    "outputId": "40d8bb24-5420-4520-f41c-b2632e8f4349",
    "papermill": {
     "duration": 0.020049,
     "end_time": "2024-11-24T10:40:31.814520",
     "exception": false,
     "start_time": "2024-11-24T10:40:31.794471",
     "status": "completed"
    },
    "tags": []
   },
   "outputs": [
    {
     "name": "stdout",
     "output_type": "stream",
     "text": [
      "is\n",
      "wa\n",
      "be\n",
      "been\n",
      "are\n",
      "were\n"
     ]
    }
   ],
   "source": [
    "words = [\"is\",\"was\",\"be\",\"been\",\"are\",\"were\"]\n",
    "\n",
    "\n",
    "\n",
    "for word in words :\n",
    "\n",
    "    print(lemmatizer.lemmatize(word))"
   ]
  },
  {
   "cell_type": "code",
   "execution_count": 24,
   "id": "62c1973f",
   "metadata": {
    "execution": {
     "iopub.execute_input": "2024-11-24T10:40:31.837971Z",
     "iopub.status.busy": "2024-11-24T10:40:31.837594Z",
     "iopub.status.idle": "2024-11-24T10:40:31.843717Z",
     "shell.execute_reply": "2024-11-24T10:40:31.842414Z"
    },
    "executionInfo": {
     "elapsed": 8,
     "status": "ok",
     "timestamp": 1732441778508,
     "user": {
      "displayName": "Ahmed Lotfy",
      "userId": "06695974026339219292"
     },
     "user_tz": -120
    },
    "id": "GTxucTYNL7R9",
    "outputId": "573fb1da-f232-4c6c-c423-75659c779608",
    "papermill": {
     "duration": 0.020059,
     "end_time": "2024-11-24T10:40:31.845584",
     "exception": false,
     "start_time": "2024-11-24T10:40:31.825525",
     "status": "completed"
    },
    "tags": []
   },
   "outputs": [
    {
     "name": "stdout",
     "output_type": "stream",
     "text": [
      "be\n",
      "be\n",
      "be\n",
      "be\n",
      "be\n",
      "be\n"
     ]
    }
   ],
   "source": [
    "words = [\"is\",\"was\",\"be\",\"been\",\"are\",\"were\"]\n",
    "\n",
    "for word in words :\n",
    "\n",
    "    print(lemmatizer.lemmatize(word,'v'))"
   ]
  },
  {
   "cell_type": "code",
   "execution_count": 25,
   "id": "cd7e0743",
   "metadata": {
    "execution": {
     "iopub.execute_input": "2024-11-24T10:40:31.869257Z",
     "iopub.status.busy": "2024-11-24T10:40:31.868867Z",
     "iopub.status.idle": "2024-11-24T10:40:31.874163Z",
     "shell.execute_reply": "2024-11-24T10:40:31.873278Z"
    },
    "executionInfo": {
     "elapsed": 8,
     "status": "ok",
     "timestamp": 1732441778509,
     "user": {
      "displayName": "Ahmed Lotfy",
      "userId": "06695974026339219292"
     },
     "user_tz": -120
    },
    "id": "mNgYuOxtL_rx",
    "outputId": "6223bd07-6be5-4a16-cde4-dd01b25e65c1",
    "papermill": {
     "duration": 0.019802,
     "end_time": "2024-11-24T10:40:31.876355",
     "exception": false,
     "start_time": "2024-11-24T10:40:31.856553",
     "status": "completed"
    },
    "tags": []
   },
   "outputs": [
    {
     "name": "stdout",
     "output_type": "stream",
     "text": [
      "foot\n",
      "radius\n",
      "men\n",
      "child\n",
      "carpenter\n",
      "fighter\n"
     ]
    }
   ],
   "source": [
    "words = [\"feet\",\"radii\",\"men\",\"children\",\"carpenter\",\"fighter\"]\n",
    "\n",
    "for word in words :\n",
    "\n",
    "    print(lemmatizer.lemmatize(word,'n'))"
   ]
  },
  {
   "cell_type": "code",
   "execution_count": 26,
   "id": "2ec53730",
   "metadata": {
    "execution": {
     "iopub.execute_input": "2024-11-24T10:40:31.900570Z",
     "iopub.status.busy": "2024-11-24T10:40:31.900180Z",
     "iopub.status.idle": "2024-11-24T10:40:31.905940Z",
     "shell.execute_reply": "2024-11-24T10:40:31.905063Z"
    },
    "executionInfo": {
     "elapsed": 12445,
     "status": "ok",
     "timestamp": 1732441770036,
     "user": {
      "displayName": "Ahmed Lotfy",
      "userId": "06695974026339219292"
     },
     "user_tz": -120
    },
    "id": "tILxztrLkxvw",
    "outputId": "62d0a826-c240-4a2a-f9a9-f89d179039bf",
    "papermill": {
     "duration": 0.020488,
     "end_time": "2024-11-24T10:40:31.908169",
     "exception": false,
     "start_time": "2024-11-24T10:40:31.887681",
     "status": "completed"
    },
    "tags": []
   },
   "outputs": [
    {
     "name": "stdout",
     "output_type": "stream",
     "text": [
      "الجري --> الجر\n",
      "تجري --> تجر\n",
      "يجرون --> يجرو\n",
      "جري --> جر\n",
      "يجري --> يجر\n"
     ]
    }
   ],
   "source": [
    "from nltk.stem.snowball import SnowballStemmer\n",
    "\n",
    "s_stemmer = SnowballStemmer(language='arabic')\n",
    "\n",
    "\n",
    "\n",
    "words = ['الجري','تجري','يجرون','جري','يجري']\n",
    "\n",
    "for word in words:\n",
    "\n",
    "    print(word+' --> '+s_stemmer.stem(word))"
   ]
  },
  {
   "cell_type": "code",
   "execution_count": 27,
   "id": "ff02fd20",
   "metadata": {
    "execution": {
     "iopub.execute_input": "2024-11-24T10:40:31.932124Z",
     "iopub.status.busy": "2024-11-24T10:40:31.931764Z",
     "iopub.status.idle": "2024-11-24T10:40:31.937310Z",
     "shell.execute_reply": "2024-11-24T10:40:31.936250Z"
    },
    "executionInfo": {
     "elapsed": 7,
     "status": "ok",
     "timestamp": 1732441778509,
     "user": {
      "displayName": "Ahmed Lotfy",
      "userId": "06695974026339219292"
     },
     "user_tz": -120
    },
    "id": "hRefCXLQMEeX",
    "outputId": "83579909-fd53-4fe0-9286-b4bd03f19856",
    "papermill": {
     "duration": 0.01987,
     "end_time": "2024-11-24T10:40:31.939373",
     "exception": false,
     "start_time": "2024-11-24T10:40:31.919503",
     "status": "completed"
    },
    "tags": []
   },
   "outputs": [
    {
     "name": "stdout",
     "output_type": "stream",
     "text": [
      "الجري --> الجري\n",
      "تجري --> تجري\n",
      "يجرون --> يجرون\n",
      "جري --> جري\n",
      "يجري --> يجري\n"
     ]
    }
   ],
   "source": [
    "words = ['الجري','تجري','يجرون','جري','يجري']\n",
    "\n",
    "for word in words:\n",
    "\n",
    "    print(word+' --> '+p_stemmer.stem(word))"
   ]
  },
  {
   "cell_type": "code",
   "execution_count": null,
   "id": "2ef152b7",
   "metadata": {
    "executionInfo": {
     "elapsed": 6,
     "status": "ok",
     "timestamp": 1732441778509,
     "user": {
      "displayName": "Ahmed Lotfy",
      "userId": "06695974026339219292"
     },
     "user_tz": -120
    },
    "id": "7-O6u9qTMFKv",
    "papermill": {
     "duration": 0.011014,
     "end_time": "2024-11-24T10:40:31.961795",
     "exception": false,
     "start_time": "2024-11-24T10:40:31.950781",
     "status": "completed"
    },
    "tags": []
   },
   "outputs": [],
   "source": []
  },
  {
   "cell_type": "code",
   "execution_count": 28,
   "id": "a3dadbcb",
   "metadata": {
    "execution": {
     "iopub.execute_input": "2024-11-24T10:40:31.986297Z",
     "iopub.status.busy": "2024-11-24T10:40:31.985895Z",
     "iopub.status.idle": "2024-11-24T10:40:31.990672Z",
     "shell.execute_reply": "2024-11-24T10:40:31.989687Z"
    },
    "executionInfo": {
     "elapsed": 501,
     "status": "ok",
     "timestamp": 1732441835344,
     "user": {
      "displayName": "Ahmed Lotfy",
      "userId": "06695974026339219292"
     },
     "user_tz": -120
    },
    "id": "9g4Ldj7tlHI2",
    "papermill": {
     "duration": 0.01927,
     "end_time": "2024-11-24T10:40:31.992605",
     "exception": false,
     "start_time": "2024-11-24T10:40:31.973335",
     "status": "completed"
    },
    "tags": []
   },
   "outputs": [],
   "source": [
    "from nltk.stem import PorterStemmer , LancasterStemmer\n",
    "\n",
    "from nltk.tokenize import sent_tokenize, word_tokenize\n",
    "\n",
    "\n",
    "\n",
    "ps = PorterStemmer()\n",
    "\n",
    "ls =  LancasterStemmer()"
   ]
  },
  {
   "cell_type": "code",
   "execution_count": 29,
   "id": "9a4efb63",
   "metadata": {
    "execution": {
     "iopub.execute_input": "2024-11-24T10:40:32.017101Z",
     "iopub.status.busy": "2024-11-24T10:40:32.016712Z",
     "iopub.status.idle": "2024-11-24T10:40:32.021246Z",
     "shell.execute_reply": "2024-11-24T10:40:32.020285Z"
    },
    "executionInfo": {
     "elapsed": 300,
     "status": "ok",
     "timestamp": 1732441875404,
     "user": {
      "displayName": "Ahmed Lotfy",
      "userId": "06695974026339219292"
     },
     "user_tz": -120
    },
    "id": "61HgB2lxC56I",
    "papermill": {
     "duration": 0.01886,
     "end_time": "2024-11-24T10:40:32.023146",
     "exception": false,
     "start_time": "2024-11-24T10:40:32.004286",
     "status": "completed"
    },
    "tags": []
   },
   "outputs": [],
   "source": [
    "words = ['الجري','تجري','يجرون','جري','يجري']"
   ]
  },
  {
   "cell_type": "code",
   "execution_count": 30,
   "id": "6f972301",
   "metadata": {
    "execution": {
     "iopub.execute_input": "2024-11-24T10:40:32.048373Z",
     "iopub.status.busy": "2024-11-24T10:40:32.047429Z",
     "iopub.status.idle": "2024-11-24T10:40:32.053122Z",
     "shell.execute_reply": "2024-11-24T10:40:32.052107Z"
    },
    "executionInfo": {
     "elapsed": 298,
     "status": "ok",
     "timestamp": 1732441906216,
     "user": {
      "displayName": "Ahmed Lotfy",
      "userId": "06695974026339219292"
     },
     "user_tz": -120
    },
    "id": "7NJm4yHKC56I",
    "outputId": "dd486d61-66e8-4d3f-bd17-0abefd4bd332",
    "papermill": {
     "duration": 0.020551,
     "end_time": "2024-11-24T10:40:32.055287",
     "exception": false,
     "start_time": "2024-11-24T10:40:32.034736",
     "status": "completed"
    },
    "tags": []
   },
   "outputs": [
    {
     "name": "stdout",
     "output_type": "stream",
     "text": [
      "الجري---->الجري\n",
      "تجري---->تجري\n",
      "يجرون---->يجرون\n",
      "جري---->جري\n",
      "يجري---->يجري\n"
     ]
    }
   ],
   "source": [
    "for w in words:\n",
    "\n",
    "    print(w+'---->'+ps.stem(w))"
   ]
  },
  {
   "cell_type": "code",
   "execution_count": 31,
   "id": "cc6b03ae",
   "metadata": {
    "execution": {
     "iopub.execute_input": "2024-11-24T10:40:32.080066Z",
     "iopub.status.busy": "2024-11-24T10:40:32.079679Z",
     "iopub.status.idle": "2024-11-24T10:40:32.084905Z",
     "shell.execute_reply": "2024-11-24T10:40:32.083912Z"
    },
    "executionInfo": {
     "elapsed": 5,
     "status": "ok",
     "timestamp": 1732441934046,
     "user": {
      "displayName": "Ahmed Lotfy",
      "userId": "06695974026339219292"
     },
     "user_tz": -120
    },
    "id": "gI1PgcZylZlF",
    "outputId": "d5b7a8f0-d722-4829-d28f-f41dfc104337",
    "papermill": {
     "duration": 0.020542,
     "end_time": "2024-11-24T10:40:32.087269",
     "exception": false,
     "start_time": "2024-11-24T10:40:32.066727",
     "status": "completed"
    },
    "tags": []
   },
   "outputs": [
    {
     "name": "stdout",
     "output_type": "stream",
     "text": [
      "الجري---->الجري\n",
      "تجري---->تجري\n",
      "يجرون---->يجرون\n",
      "جري---->جري\n",
      "يجري---->يجري\n"
     ]
    }
   ],
   "source": [
    "for w in words:\n",
    "\n",
    "    print(w+'---->'+ls.stem(w))"
   ]
  },
  {
   "cell_type": "code",
   "execution_count": 32,
   "id": "1eb79f77",
   "metadata": {
    "execution": {
     "iopub.execute_input": "2024-11-24T10:40:32.113153Z",
     "iopub.status.busy": "2024-11-24T10:40:32.112180Z",
     "iopub.status.idle": "2024-11-24T10:40:32.118636Z",
     "shell.execute_reply": "2024-11-24T10:40:32.117584Z"
    },
    "executionInfo": {
     "elapsed": 314,
     "status": "ok",
     "timestamp": 1732442023099,
     "user": {
      "displayName": "Ahmed Lotfy",
      "userId": "06695974026339219292"
     },
     "user_tz": -120
    },
    "id": "r9havPIklgbf",
    "outputId": "c2b01572-6de5-407a-b390-05984c2f430d",
    "papermill": {
     "duration": 0.022016,
     "end_time": "2024-11-24T10:40:32.120841",
     "exception": false,
     "start_time": "2024-11-24T10:40:32.098825",
     "status": "completed"
    },
    "tags": []
   },
   "outputs": [
    {
     "name": "stdout",
     "output_type": "stream",
     "text": [
      "Word                Porter Stemmer      lancaster Stem      \n",
      "الجري               الجري               الجري               \n",
      "تجري                تجري                تجري                \n",
      "يجرون               يجرون               يجرون               \n",
      "جري                 جري                 جري                 \n",
      "يجري                يجري                يجري                \n"
     ]
    }
   ],
   "source": [
    "words = ['الجري','تجري','يجرون','جري','يجري']\n",
    "\n",
    "print(\"{0:20}{1:20}{2:20}\".format(\"Word\",\"Porter Stemmer\",\"lancaster Stem\"))\n",
    "\n",
    "for word in words:\n",
    "\n",
    "    print(\"{0:20}{1:20}{2:20}\".format(word,ps.stem(word),ls.stem(word)))"
   ]
  },
  {
   "cell_type": "code",
   "execution_count": 33,
   "id": "3d6b16f2",
   "metadata": {
    "execution": {
     "iopub.execute_input": "2024-11-24T10:40:32.145967Z",
     "iopub.status.busy": "2024-11-24T10:40:32.145609Z",
     "iopub.status.idle": "2024-11-24T10:40:32.150120Z",
     "shell.execute_reply": "2024-11-24T10:40:32.149162Z"
    },
    "executionInfo": {
     "elapsed": 2047,
     "status": "ok",
     "timestamp": 1732442074603,
     "user": {
      "displayName": "Ahmed Lotfy",
      "userId": "06695974026339219292"
     },
     "user_tz": -120
    },
    "id": "SpePgpCMl2F5",
    "papermill": {
     "duration": 0.019445,
     "end_time": "2024-11-24T10:40:32.151989",
     "exception": false,
     "start_time": "2024-11-24T10:40:32.132544",
     "status": "completed"
    },
    "tags": []
   },
   "outputs": [],
   "source": [
    "from nltk.stem import WordNetLemmatizer\n",
    "\n",
    "lemmatizer = WordNetLemmatizer()"
   ]
  },
  {
   "cell_type": "code",
   "execution_count": 34,
   "id": "58f7c645",
   "metadata": {
    "execution": {
     "iopub.execute_input": "2024-11-24T10:40:32.177126Z",
     "iopub.status.busy": "2024-11-24T10:40:32.176415Z",
     "iopub.status.idle": "2024-11-24T10:40:32.181597Z",
     "shell.execute_reply": "2024-11-24T10:40:32.180674Z"
    },
    "executionInfo": {
     "elapsed": 323,
     "status": "ok",
     "timestamp": 1732442113007,
     "user": {
      "displayName": "Ahmed Lotfy",
      "userId": "06695974026339219292"
     },
     "user_tz": -120
    },
    "id": "UzGur9w4mCRJ",
    "outputId": "e6ba0931-6aa9-4d3d-e8c3-1586d13a6f20",
    "papermill": {
     "duration": 0.020386,
     "end_time": "2024-11-24T10:40:32.184022",
     "exception": false,
     "start_time": "2024-11-24T10:40:32.163636",
     "status": "completed"
    },
    "tags": []
   },
   "outputs": [
    {
     "name": "stdout",
     "output_type": "stream",
     "text": [
      "الجري\n",
      "تجري\n",
      "يجرون\n",
      "جري\n",
      "يجري\n"
     ]
    }
   ],
   "source": [
    "words = ['الجري','تجري','يجرون','جري','يجري']\n",
    "\n",
    "for word in words :\n",
    "\n",
    "    print(lemmatizer.lemmatize(word))"
   ]
  },
  {
   "cell_type": "code",
   "execution_count": 35,
   "id": "18a8f7db",
   "metadata": {
    "execution": {
     "iopub.execute_input": "2024-11-24T10:40:32.209312Z",
     "iopub.status.busy": "2024-11-24T10:40:32.208897Z",
     "iopub.status.idle": "2024-11-24T10:40:32.215249Z",
     "shell.execute_reply": "2024-11-24T10:40:32.214320Z"
    },
    "executionInfo": {
     "elapsed": 371,
     "status": "ok",
     "timestamp": 1732444000044,
     "user": {
      "displayName": "Ahmed Lotfy",
      "userId": "06695974026339219292"
     },
     "user_tz": -120
    },
    "id": "VQgdt-9umL9X",
    "papermill": {
     "duration": 0.020917,
     "end_time": "2024-11-24T10:40:32.217110",
     "exception": false,
     "start_time": "2024-11-24T10:40:32.196193",
     "status": "completed"
    },
    "tags": []
   },
   "outputs": [],
   "source": [
    "StemDict = {'run':['run','runs','running','runner','rerun','ran'],\n",
    "\n",
    "            'book':['book','books','booking','booker','rebook'],\n",
    "\n",
    "           'عمل' : ['يعمل','عامل','يعملون','عمال','العمال'] }\n",
    "\n",
    "\n",
    "\n",
    "# T ='he went for running last night as he love ran and he always runs at night , so he can book the booking from the booker'\n",
    "\n",
    "T = 'ذهب محمد مع العمال كي يعملون في المصنع لانه يعمل  عامل مع عمال آخرين'\n",
    "\n",
    "\n",
    "\n",
    "NewT=[]\n",
    "\n",
    "for word in T.split():\n",
    "\n",
    "  NewWord=''\n",
    "\n",
    "  Found=False\n",
    "\n",
    "  for key in StemDict:\n",
    "\n",
    "    if word in StemDict[key]:\n",
    "\n",
    "      NewWord=key\n",
    "\n",
    "      Found=True\n",
    "\n",
    "      break\n",
    "\n",
    "  if Found==False:\n",
    "\n",
    "    NewWord=word\n",
    "\n",
    "  NewT.append(NewWord)\n",
    "\n",
    "\n",
    "\n"
   ]
  },
  {
   "cell_type": "code",
   "execution_count": 36,
   "id": "03b46ac1",
   "metadata": {
    "execution": {
     "iopub.execute_input": "2024-11-24T10:40:32.241872Z",
     "iopub.status.busy": "2024-11-24T10:40:32.241506Z",
     "iopub.status.idle": "2024-11-24T10:40:32.247797Z",
     "shell.execute_reply": "2024-11-24T10:40:32.246797Z"
    },
    "executionInfo": {
     "elapsed": 325,
     "status": "ok",
     "timestamp": 1732444082367,
     "user": {
      "displayName": "Ahmed Lotfy",
      "userId": "06695974026339219292"
     },
     "user_tz": -120
    },
    "id": "AOSCOzLmtLv4",
    "outputId": "fde4dd99-1ac0-4f42-b820-7bcde2ef1421",
    "papermill": {
     "duration": 0.0208,
     "end_time": "2024-11-24T10:40:32.249606",
     "exception": false,
     "start_time": "2024-11-24T10:40:32.228806",
     "status": "completed"
    },
    "tags": []
   },
   "outputs": [
    {
     "data": {
      "text/plain": [
       "'ذهب محمد مع عمل كي عمل في المصنع لانه عمل عمل مع عمل آخرين'"
      ]
     },
     "execution_count": 36,
     "metadata": {},
     "output_type": "execute_result"
    }
   ],
   "source": [
    "' '.join(NewT)"
   ]
  },
  {
   "cell_type": "code",
   "execution_count": null,
   "id": "820d0bdf",
   "metadata": {
    "id": "5nJZYTPItOld",
    "papermill": {
     "duration": 0.012753,
     "end_time": "2024-11-24T10:40:32.274143",
     "exception": false,
     "start_time": "2024-11-24T10:40:32.261390",
     "status": "completed"
    },
    "tags": []
   },
   "outputs": [],
   "source": []
  }
 ],
 "metadata": {
  "colab": {
   "authorship_tag": "ABX9TyOmTLaswmY/jRB3hM93V4y8",
   "provenance": []
  },
  "kaggle": {
   "accelerator": "none",
   "dataSources": [],
   "dockerImageVersionId": 30786,
   "isGpuEnabled": false,
   "isInternetEnabled": true,
   "language": "python",
   "sourceType": "notebook"
  },
  "kernelspec": {
   "display_name": "Python 3",
   "language": "python",
   "name": "python3"
  },
  "language_info": {
   "codemirror_mode": {
    "name": "ipython",
    "version": 3
   },
   "file_extension": ".py",
   "mimetype": "text/x-python",
   "name": "python",
   "nbconvert_exporter": "python",
   "pygments_lexer": "ipython3",
   "version": "3.10.14"
  },
  "papermill": {
   "default_parameters": {},
   "duration": 24.547584,
   "end_time": "2024-11-24T10:40:33.006213",
   "environment_variables": {},
   "exception": null,
   "input_path": "__notebook__.ipynb",
   "output_path": "__notebook__.ipynb",
   "parameters": {},
   "start_time": "2024-11-24T10:40:08.458629",
   "version": "2.6.0"
  }
 },
 "nbformat": 4,
 "nbformat_minor": 5
}
