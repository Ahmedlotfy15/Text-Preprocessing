{
 "cells": [
  {
   "cell_type": "markdown",
   "id": "48881718",
   "metadata": {
    "papermill": {
     "duration": 0.008824,
     "end_time": "2024-11-23T19:08:46.364480",
     "exception": false,
     "start_time": "2024-11-23T19:08:46.355656",
     "status": "completed"
    },
    "tags": []
   },
   "source": [
    "# Introduction\n",
    " - This notebook demonstrates text preprocessing by removing stopwords in both English and Arabic using popular libraries like NLTK, spaCy, and Arabic-Stopwords. It first tokenizes the text into words, and then filters out common stopwords such as \"the\" in English and \"من\" in Arabic. The notebook also showcases how to customize stopword lists, particularly in spaCy, and how to work with Arabic stopwords using the Arabic-Stopwords library. This preprocessing technique is useful for text analysis, classification tasks, and improving machine learning models by reducing noise and enhancing model accuracy in natural language processing tasks.\n",
    "\n"
   ]
  },
  {
   "cell_type": "code",
   "execution_count": 1,
   "id": "0541a0f1",
   "metadata": {
    "execution": {
     "iopub.execute_input": "2024-11-23T19:08:46.383321Z",
     "iopub.status.busy": "2024-11-23T19:08:46.382886Z",
     "iopub.status.idle": "2024-11-23T19:08:48.591307Z",
     "shell.execute_reply": "2024-11-23T19:08:48.590249Z"
    },
    "executionInfo": {
     "elapsed": 9114,
     "status": "ok",
     "timestamp": 1732389543890,
     "user": {
      "displayName": "Ahmed Lotfy",
      "userId": "06695974026339219292"
     },
     "user_tz": -120
    },
    "id": "Yr-c5NlpaOND",
    "outputId": "eb9948d3-52e3-430d-cffb-72b130446cb9",
    "papermill": {
     "duration": 2.220584,
     "end_time": "2024-11-23T19:08:48.593469",
     "exception": false,
     "start_time": "2024-11-23T19:08:46.372885",
     "status": "completed"
    },
    "tags": []
   },
   "outputs": [
    {
     "name": "stdout",
     "output_type": "stream",
     "text": [
      "[nltk_data] Downloading package stopwords to /usr/share/nltk_data...\n",
      "[nltk_data]   Package stopwords is already up-to-date!\n",
      "This sentence stop words.\n"
     ]
    }
   ],
   "source": [
    "# This code will remove all punctuation from the text and print the following output:\n",
    "\n",
    "import nltk\n",
    "\n",
    "nltk.download('stopwords')\n",
    "\n",
    "import re\n",
    "\n",
    "from nltk.corpus import stopwords\n",
    "\n",
    "\n",
    "\n",
    "stop_words = set(stopwords.words('english'))\n",
    "\n",
    "\n",
    "\n",
    "text = \"This is a sentence with stop words.\"\n",
    "\n",
    "words = text.split()\n",
    "\n",
    "clean_words = [word for word in words if word not in stop_words]\n",
    "\n",
    "clean_text = \" \".join(clean_words)\n",
    "\n",
    "print(clean_text)"
   ]
  },
  {
   "cell_type": "code",
   "execution_count": 2,
   "id": "d8be5392",
   "metadata": {
    "execution": {
     "iopub.execute_input": "2024-11-23T19:08:48.611828Z",
     "iopub.status.busy": "2024-11-23T19:08:48.610781Z",
     "iopub.status.idle": "2024-11-23T19:08:48.615792Z",
     "shell.execute_reply": "2024-11-23T19:08:48.614850Z"
    },
    "executionInfo": {
     "elapsed": 332,
     "status": "ok",
     "timestamp": 1732389678617,
     "user": {
      "displayName": "Ahmed Lotfy",
      "userId": "06695974026339219292"
     },
     "user_tz": -120
    },
    "id": "AVvxiEGDeJsw",
    "papermill": {
     "duration": 0.016031,
     "end_time": "2024-11-23T19:08:48.617637",
     "exception": false,
     "start_time": "2024-11-23T19:08:48.601606",
     "status": "completed"
    },
    "tags": []
   },
   "outputs": [],
   "source": [
    "stop_words_arabic = set([\n",
    "\n",
    "    \"من\", \"إلى\", \"في\", \"على\", \"و\", \"عن\", \"مع\", \"أن\", \"هذا\", \"هذه\", \"كان\", \"يكون\"\n",
    "\n",
    "])\n"
   ]
  },
  {
   "cell_type": "code",
   "execution_count": 3,
   "id": "55285eab",
   "metadata": {
    "execution": {
     "iopub.execute_input": "2024-11-23T19:08:48.635314Z",
     "iopub.status.busy": "2024-11-23T19:08:48.634488Z",
     "iopub.status.idle": "2024-11-23T19:08:48.640216Z",
     "shell.execute_reply": "2024-11-23T19:08:48.639265Z"
    },
    "executionInfo": {
     "elapsed": 314,
     "status": "ok",
     "timestamp": 1732389711127,
     "user": {
      "displayName": "Ahmed Lotfy",
      "userId": "06695974026339219292"
     },
     "user_tz": -120
    },
    "id": "LP5AtqjGeNTR",
    "outputId": "d19115ba-3367-425a-ee1e-03bd25a7770c",
    "papermill": {
     "duration": 0.016564,
     "end_time": "2024-11-23T19:08:48.642145",
     "exception": false,
     "start_time": "2024-11-23T19:08:48.625581",
     "status": "completed"
    },
    "tags": []
   },
   "outputs": [
    {
     "name": "stdout",
     "output_type": "stream",
     "text": [
      "النص بعد إزالة الكلمات الشائعة: أنا أحب البرمجة والتعلم مجال الذكاء الاصطناعي\n"
     ]
    }
   ],
   "source": [
    "text = \"أنا أحب البرمجة والتعلم في مجال الذكاء الاصطناعي\"\n",
    "\n",
    "words = text.split()\n",
    "\n",
    "filtered_words = [word for word in words if word not in stop_words_arabic]\n",
    "\n",
    "print(\"النص بعد إزالة الكلمات الشائعة:\", \" \".join(filtered_words))"
   ]
  },
  {
   "cell_type": "code",
   "execution_count": 4,
   "id": "cc75155d",
   "metadata": {
    "execution": {
     "iopub.execute_input": "2024-11-23T19:08:48.660180Z",
     "iopub.status.busy": "2024-11-23T19:08:48.659334Z",
     "iopub.status.idle": "2024-11-23T19:08:48.761792Z",
     "shell.execute_reply": "2024-11-23T19:08:48.760797Z"
    },
    "executionInfo": {
     "elapsed": 313,
     "status": "ok",
     "timestamp": 1732390116350,
     "user": {
      "displayName": "Ahmed Lotfy",
      "userId": "06695974026339219292"
     },
     "user_tz": -120
    },
    "id": "Axg28anIe2Tb",
    "outputId": "57691459-67ed-46c8-9735-6df5ee8f2d5c",
    "papermill": {
     "duration": 0.113633,
     "end_time": "2024-11-23T19:08:48.763881",
     "exception": false,
     "start_time": "2024-11-23T19:08:48.650248",
     "status": "completed"
    },
    "tags": []
   },
   "outputs": [
    {
     "name": "stdout",
     "output_type": "stream",
     "text": [
      "[nltk_data] Downloading package punkt to /usr/share/nltk_data...\n",
      "[nltk_data]   Package punkt is already up-to-date!\n"
     ]
    },
    {
     "data": {
      "text/plain": [
       "True"
      ]
     },
     "execution_count": 4,
     "metadata": {},
     "output_type": "execute_result"
    }
   ],
   "source": [
    "import nltk\n",
    "\n",
    "nltk.download('punkt')"
   ]
  },
  {
   "cell_type": "code",
   "execution_count": 5,
   "id": "b880987b",
   "metadata": {
    "execution": {
     "iopub.execute_input": "2024-11-23T19:08:48.781687Z",
     "iopub.status.busy": "2024-11-23T19:08:48.781348Z",
     "iopub.status.idle": "2024-11-23T19:08:54.250258Z",
     "shell.execute_reply": "2024-11-23T19:08:54.249088Z"
    },
    "executionInfo": {
     "elapsed": 7979,
     "status": "ok",
     "timestamp": 1732390140448,
     "user": {
      "displayName": "Ahmed Lotfy",
      "userId": "06695974026339219292"
     },
     "user_tz": -120
    },
    "id": "J0iJe1LEf5C3",
    "papermill": {
     "duration": 5.480457,
     "end_time": "2024-11-23T19:08:54.252687",
     "exception": false,
     "start_time": "2024-11-23T19:08:48.772230",
     "status": "completed"
    },
    "tags": []
   },
   "outputs": [],
   "source": [
    "import spacy\n",
    "\n",
    "nlp = spacy.load('en_core_web_sm')"
   ]
  },
  {
   "cell_type": "code",
   "execution_count": 6,
   "id": "265d5a69",
   "metadata": {
    "execution": {
     "iopub.execute_input": "2024-11-23T19:08:54.272198Z",
     "iopub.status.busy": "2024-11-23T19:08:54.271594Z",
     "iopub.status.idle": "2024-11-23T19:08:54.277139Z",
     "shell.execute_reply": "2024-11-23T19:08:54.276146Z"
    },
    "executionInfo": {
     "elapsed": 3,
     "status": "ok",
     "timestamp": 1732390144325,
     "user": {
      "displayName": "Ahmed Lotfy",
      "userId": "06695974026339219292"
     },
     "user_tz": -120
    },
    "id": "abhkrwNUf7ly",
    "outputId": "42b2d29b-4412-4185-ce18-9de87f0e653c",
    "papermill": {
     "duration": 0.018048,
     "end_time": "2024-11-23T19:08:54.279377",
     "exception": false,
     "start_time": "2024-11-23T19:08:54.261329",
     "status": "completed"
    },
    "tags": []
   },
   "outputs": [
    {
     "name": "stdout",
     "output_type": "stream",
     "text": [
      "{'front', 'his', 'between', \"'m\", 'did', 'anyone', 'formerly', 'or', 'three', 'while', 'therein', 'namely', 'me', 'doing', 'our', 'without', 'none', 'she', 'everywhere', 'just', 'herself', 'part', 'among', 'eleven', 'with', 'anyway', 'every', 'ourselves', 'yourselves', 'now', 'yours', 'such', 'n’t', 'eight', 'much', 'others', 'used', 'against', 'who', 'a', 'some', 'was', 'why', 'though', 'mine', 'own', 'other', 'might', 'and', 'via', 'forty', 'become', 'empty', '’ll', 'their', 'how', 'anywhere', 'so', '‘d', 'by', 'he', 'may', 'somewhere', 'thru', 'not', 'would', 'four', 'on', 'you', 'during', 'to', 'thus', 'seems', '’d', 'onto', 'as', 'what', 'hereupon', 'nevertheless', 'n‘t', 'us', 'unless', 'nor', 'two', 'both', 'hereafter', 'serious', 'afterwards', 'back', 'throughout', 'quite', 'indeed', 'could', 'besides', 'it', 'over', 'have', \"n't\", 'first', 'same', 'if', 'into', 'hundred', 'few', 'either', '‘re', 'next', 'be', 'when', 'upon', 'must', 'third', \"'re\", 'no', 'seemed', 'across', 'been', 'whenever', 'already', 'well', 'fifty', 'always', 'elsewhere', 'cannot', 'move', 'amount', 'in', 'still', 'together', 'whom', 'whereby', 'its', 'another', 'had', 'see', 'due', 'someone', 'put', 'through', 'keep', 'full', 'ca', 'meanwhile', 'these', 'can', 'above', 'really', 'your', 'here', 'are', 'sometime', 'ever', 'those', 'beyond', 'also', 'nobody', 'whole', 'thence', '’re', 'once', 'enough', 'get', 'himself', 'various', 'sixty', 'most', 'from', 'one', 'five', 'top', 'out', 'take', 'wherein', 'give', 'until', 'twelve', 'is', '‘m', 'show', 'became', 'thereby', 'further', 'hereby', 'within', 'often', 'for', 'latterly', 'although', 'whose', \"'ve\", 'my', 'amongst', 'whither', 'too', 'wherever', 'which', 'even', '’s', 'do', 'noone', 'latter', 'whence', 'less', 'does', 'regarding', 'only', 'will', 'six', 'an', 'never', 'many', 'very', 'again', 'last', 'all', 'nothing', 'around', 'herein', 'hers', 'of', 'anything', 'this', 'nowhere', 'moreover', 'therefore', 'that', 'per', 'say', 'him', 'yourself', 'since', 'otherwise', 'the', 'thereupon', 'however', 'everyone', 'whereas', \"'d\", 'something', 'fifteen', 'any', 'bottom', 'up', 'please', \"'ll\", '‘ll', 'behind', 'perhaps', 'alone', 'below', 'go', '’ve', 'at', \"'s\", 'than', 'thereafter', 'whereupon', 'rather', 'were', 'everything', 'twenty', 'becomes', 'former', 'themselves', 'where', 'using', 'hence', 'seeming', 'being', 'should', 'whether', 'them', 'almost', '‘ve', 'ours', 'else', 'myself', 'towards', 'they', 'name', 'nine', 'whoever', 'before', '’m', 'down', 'but', 'itself', 'toward', 'anyhow', 'made', 'under', 'each', 'her', 'more', 'ten', 'whatever', 'has', 'done', 'mostly', 'off', 'because', 'except', 'side', 'beside', 'beforehand', 'yet', 'seem', 'after', 'then', 'somehow', 'make', 'along', 'sometimes', 'there', 'call', 'least', 'i', 'several', 'becoming', 'we', 'am', 're', 'whereafter', 'about', '‘s', 'neither'}\n"
     ]
    }
   ],
   "source": [
    "print(nlp.Defaults.stop_words)"
   ]
  },
  {
   "cell_type": "code",
   "execution_count": 7,
   "id": "871c1c02",
   "metadata": {
    "execution": {
     "iopub.execute_input": "2024-11-23T19:08:54.297822Z",
     "iopub.status.busy": "2024-11-23T19:08:54.297450Z",
     "iopub.status.idle": "2024-11-23T19:08:54.303969Z",
     "shell.execute_reply": "2024-11-23T19:08:54.303006Z"
    },
    "executionInfo": {
     "elapsed": 332,
     "status": "ok",
     "timestamp": 1732390166500,
     "user": {
      "displayName": "Ahmed Lotfy",
      "userId": "06695974026339219292"
     },
     "user_tz": -120
    },
    "id": "Oy7kxYlhf8Ye",
    "outputId": "9101f28c-30db-4a14-fdb4-3de78b139853",
    "papermill": {
     "duration": 0.017997,
     "end_time": "2024-11-23T19:08:54.305904",
     "exception": false,
     "start_time": "2024-11-23T19:08:54.287907",
     "status": "completed"
    },
    "tags": []
   },
   "outputs": [
    {
     "data": {
      "text/plain": [
       "True"
      ]
     },
     "execution_count": 7,
     "metadata": {},
     "output_type": "execute_result"
    }
   ],
   "source": [
    "nlp.vocab['myself'].is_stop"
   ]
  },
  {
   "cell_type": "code",
   "execution_count": 8,
   "id": "be408813",
   "metadata": {
    "execution": {
     "iopub.execute_input": "2024-11-23T19:08:54.324405Z",
     "iopub.status.busy": "2024-11-23T19:08:54.323884Z",
     "iopub.status.idle": "2024-11-23T19:08:54.330231Z",
     "shell.execute_reply": "2024-11-23T19:08:54.329270Z"
    },
    "executionInfo": {
     "elapsed": 311,
     "status": "ok",
     "timestamp": 1732390176560,
     "user": {
      "displayName": "Ahmed Lotfy",
      "userId": "06695974026339219292"
     },
     "user_tz": -120
    },
    "id": "MB3E7PLhgBz6",
    "outputId": "b7d5589c-8015-47b3-8e74-e4fa25a2566b",
    "papermill": {
     "duration": 0.017925,
     "end_time": "2024-11-23T19:08:54.332320",
     "exception": false,
     "start_time": "2024-11-23T19:08:54.314395",
     "status": "completed"
    },
    "tags": []
   },
   "outputs": [
    {
     "data": {
      "text/plain": [
       "False"
      ]
     },
     "execution_count": 8,
     "metadata": {},
     "output_type": "execute_result"
    }
   ],
   "source": [
    "nlp.vocab['mystery'].is_stop"
   ]
  },
  {
   "cell_type": "code",
   "execution_count": 9,
   "id": "79ba6517",
   "metadata": {
    "execution": {
     "iopub.execute_input": "2024-11-23T19:08:54.350681Z",
     "iopub.status.busy": "2024-11-23T19:08:54.350336Z",
     "iopub.status.idle": "2024-11-23T19:08:54.357000Z",
     "shell.execute_reply": "2024-11-23T19:08:54.356001Z"
    },
    "executionInfo": {
     "elapsed": 322,
     "status": "ok",
     "timestamp": 1732390205603,
     "user": {
      "displayName": "Ahmed Lotfy",
      "userId": "06695974026339219292"
     },
     "user_tz": -120
    },
    "id": "yrRX_xStgERN",
    "outputId": "44e25689-535a-47e0-a42d-913bb2c518c9",
    "papermill": {
     "duration": 0.018222,
     "end_time": "2024-11-23T19:08:54.358994",
     "exception": false,
     "start_time": "2024-11-23T19:08:54.340772",
     "status": "completed"
    },
    "tags": []
   },
   "outputs": [
    {
     "data": {
      "text/plain": [
       "False"
      ]
     },
     "execution_count": 9,
     "metadata": {},
     "output_type": "execute_result"
    }
   ],
   "source": [
    "nlp.vocab['btw'].is_stop"
   ]
  },
  {
   "cell_type": "code",
   "execution_count": 10,
   "id": "077fac88",
   "metadata": {
    "execution": {
     "iopub.execute_input": "2024-11-23T19:08:54.378164Z",
     "iopub.status.busy": "2024-11-23T19:08:54.377346Z",
     "iopub.status.idle": "2024-11-23T19:08:54.382079Z",
     "shell.execute_reply": "2024-11-23T19:08:54.381117Z"
    },
    "executionInfo": {
     "elapsed": 301,
     "status": "ok",
     "timestamp": 1732390239659,
     "user": {
      "displayName": "Ahmed Lotfy",
      "userId": "06695974026339219292"
     },
     "user_tz": -120
    },
    "id": "STS1_EkugJ4U",
    "papermill": {
     "duration": 0.016374,
     "end_time": "2024-11-23T19:08:54.383992",
     "exception": false,
     "start_time": "2024-11-23T19:08:54.367618",
     "status": "completed"
    },
    "tags": []
   },
   "outputs": [],
   "source": [
    "nlp.Defaults.stop_words.add('mystery')\n",
    "\n",
    "nlp.vocab['mystery'].is_stop = True"
   ]
  },
  {
   "cell_type": "code",
   "execution_count": 11,
   "id": "da6a5d02",
   "metadata": {
    "execution": {
     "iopub.execute_input": "2024-11-23T19:08:54.403104Z",
     "iopub.status.busy": "2024-11-23T19:08:54.402195Z",
     "iopub.status.idle": "2024-11-23T19:08:54.408201Z",
     "shell.execute_reply": "2024-11-23T19:08:54.407307Z"
    },
    "executionInfo": {
     "elapsed": 302,
     "status": "ok",
     "timestamp": 1732390261860,
     "user": {
      "displayName": "Ahmed Lotfy",
      "userId": "06695974026339219292"
     },
     "user_tz": -120
    },
    "id": "qKjDRn1NgWif",
    "outputId": "af5fe684-fce9-42cb-d878-edc1c991f42c",
    "papermill": {
     "duration": 0.017572,
     "end_time": "2024-11-23T19:08:54.410243",
     "exception": false,
     "start_time": "2024-11-23T19:08:54.392671",
     "status": "completed"
    },
    "tags": []
   },
   "outputs": [
    {
     "data": {
      "text/plain": [
       "True"
      ]
     },
     "execution_count": 11,
     "metadata": {},
     "output_type": "execute_result"
    }
   ],
   "source": [
    "nlp.vocab['mystery'].is_stop"
   ]
  },
  {
   "cell_type": "code",
   "execution_count": 12,
   "id": "4d7b2fe9",
   "metadata": {
    "execution": {
     "iopub.execute_input": "2024-11-23T19:08:54.429225Z",
     "iopub.status.busy": "2024-11-23T19:08:54.428764Z",
     "iopub.status.idle": "2024-11-23T19:08:54.435308Z",
     "shell.execute_reply": "2024-11-23T19:08:54.434004Z"
    },
    "executionInfo": {
     "elapsed": 310,
     "status": "ok",
     "timestamp": 1732390295410,
     "user": {
      "displayName": "Ahmed Lotfy",
      "userId": "06695974026339219292"
     },
     "user_tz": -120
    },
    "id": "Wn0MzMTNgZGc",
    "outputId": "1ffce0e4-086f-40f6-8453-f72f3815d68e",
    "papermill": {
     "duration": 0.018585,
     "end_time": "2024-11-23T19:08:54.437400",
     "exception": false,
     "start_time": "2024-11-23T19:08:54.418815",
     "status": "completed"
    },
    "tags": []
   },
   "outputs": [
    {
     "data": {
      "text/plain": [
       "True"
      ]
     },
     "execution_count": 12,
     "metadata": {},
     "output_type": "execute_result"
    }
   ],
   "source": [
    "nlp.vocab['mostly'].is_stop"
   ]
  },
  {
   "cell_type": "code",
   "execution_count": 13,
   "id": "97abfc6a",
   "metadata": {
    "execution": {
     "iopub.execute_input": "2024-11-23T19:08:54.457224Z",
     "iopub.status.busy": "2024-11-23T19:08:54.456516Z",
     "iopub.status.idle": "2024-11-23T19:08:54.461250Z",
     "shell.execute_reply": "2024-11-23T19:08:54.460032Z"
    },
    "executionInfo": {
     "elapsed": 314,
     "status": "ok",
     "timestamp": 1732390334013,
     "user": {
      "displayName": "Ahmed Lotfy",
      "userId": "06695974026339219292"
     },
     "user_tz": -120
    },
    "id": "vCMuj_95ghR7",
    "papermill": {
     "duration": 0.017194,
     "end_time": "2024-11-23T19:08:54.463421",
     "exception": false,
     "start_time": "2024-11-23T19:08:54.446227",
     "status": "completed"
    },
    "tags": []
   },
   "outputs": [],
   "source": [
    "nlp.Defaults.stop_words.remove('mostly')\n",
    "\n",
    "nlp.vocab['mostly'].is_stop = False"
   ]
  },
  {
   "cell_type": "code",
   "execution_count": 14,
   "id": "3cc8c1d4",
   "metadata": {
    "execution": {
     "iopub.execute_input": "2024-11-23T19:08:54.489049Z",
     "iopub.status.busy": "2024-11-23T19:08:54.487879Z",
     "iopub.status.idle": "2024-11-23T19:08:54.495860Z",
     "shell.execute_reply": "2024-11-23T19:08:54.494932Z"
    },
    "executionInfo": {
     "elapsed": 332,
     "status": "ok",
     "timestamp": 1732390340780,
     "user": {
      "displayName": "Ahmed Lotfy",
      "userId": "06695974026339219292"
     },
     "user_tz": -120
    },
    "id": "_BVkfn1CgruF",
    "outputId": "2937ed36-3c98-4ab8-dcc2-0fbff5ae8adf",
    "papermill": {
     "duration": 0.022806,
     "end_time": "2024-11-23T19:08:54.498403",
     "exception": false,
     "start_time": "2024-11-23T19:08:54.475597",
     "status": "completed"
    },
    "tags": []
   },
   "outputs": [
    {
     "data": {
      "text/plain": [
       "False"
      ]
     },
     "execution_count": 14,
     "metadata": {},
     "output_type": "execute_result"
    }
   ],
   "source": [
    "nlp.vocab['mostly'].is_stop"
   ]
  },
  {
   "cell_type": "code",
   "execution_count": 15,
   "id": "612a3d77",
   "metadata": {
    "execution": {
     "iopub.execute_input": "2024-11-23T19:08:54.528691Z",
     "iopub.status.busy": "2024-11-23T19:08:54.528330Z",
     "iopub.status.idle": "2024-11-23T19:08:55.127046Z",
     "shell.execute_reply": "2024-11-23T19:08:55.125879Z"
    },
    "executionInfo": {
     "elapsed": 383,
     "status": "ok",
     "timestamp": 1732390681951,
     "user": {
      "displayName": "Ahmed Lotfy",
      "userId": "06695974026339219292"
     },
     "user_tz": -120
    },
    "id": "9Y4knP4Qh-Qj",
    "outputId": "a961f3f6-9f04-4273-a20d-12ace9f1e712",
    "papermill": {
     "duration": 0.614979,
     "end_time": "2024-11-23T19:08:55.129134",
     "exception": false,
     "start_time": "2024-11-23T19:08:54.514155",
     "status": "completed"
    },
    "tags": []
   },
   "outputs": [
    {
     "name": "stdout",
     "output_type": "stream",
     "text": [
      "[nltk_data] Downloading package punkt_tab to /usr/share/nltk_data...\n",
      "[nltk_data]   Unzipping tokenizers/punkt_tab.zip.\n"
     ]
    },
    {
     "data": {
      "text/plain": [
       "True"
      ]
     },
     "execution_count": 15,
     "metadata": {},
     "output_type": "execute_result"
    }
   ],
   "source": [
    "import nltk\n",
    "\n",
    "nltk.download('punkt_tab')"
   ]
  },
  {
   "cell_type": "code",
   "execution_count": 16,
   "id": "81fd2059",
   "metadata": {
    "execution": {
     "iopub.execute_input": "2024-11-23T19:08:55.148634Z",
     "iopub.status.busy": "2024-11-23T19:08:55.148273Z",
     "iopub.status.idle": "2024-11-23T19:08:55.155179Z",
     "shell.execute_reply": "2024-11-23T19:08:55.154008Z"
    },
    "executionInfo": {
     "elapsed": 323,
     "status": "ok",
     "timestamp": 1732390683900,
     "user": {
      "displayName": "Ahmed Lotfy",
      "userId": "06695974026339219292"
     },
     "user_tz": -120
    },
    "id": "zyBMw4zkgsWp",
    "outputId": "5c2c4538-dadb-4f64-a744-5fda039b4d6b",
    "papermill": {
     "duration": 0.019148,
     "end_time": "2024-11-23T19:08:55.157280",
     "exception": false,
     "start_time": "2024-11-23T19:08:55.138132",
     "status": "completed"
    },
    "tags": []
   },
   "outputs": [
    {
     "name": "stdout",
     "output_type": "stream",
     "text": [
      "179\n",
      "{'his', 'nor', 'below', 'between', \"mightn't\", 'did', 'hasn', 'both', 'out', \"it's\", 'at', 'd', 'or', 'until', 'than', 'while', 'is', 'ain', \"should've\", 'me', 'it', 'were', 'over', 'have', \"shouldn't\", 'doing', 'our', 'she', 'further', 'themselves', 'where', 'just', 'having', 'for', \"wouldn't\", 'herself', \"couldn't\", 'same', 'my', 'which', 'if', 'with', 'too', 'into', 'being', 'few', 'hadn', 'most', 'do', 'should', 'doesn', 's', 'ourselves', 'weren', 'yourselves', 'yours', 'be', 'now', 'such', 'when', 'them', 'does', 'ours', 'no', 'couldn', 'myself', 'only', 'they', 'against', 'o', 'been', 'who', 'before', 'will', 'y', 'wasn', 'a', \"hasn't\", \"weren't\", 'an', \"isn't\", 'down', 'some', 'but', 'isn', 'was', 'why', 'very', 'again', 'll', 'in', \"mustn't\", 'itself', 'won', 'whom', 'haven', 'own', \"you're\", 'its', 'all', 'other', 'ma', 'and', 'under', 'each', 'aren', 'her', 'had', 'more', \"hadn't\", 'hers', 'of', 'their', 'how', \"she's\", 'this', 'through', \"aren't\", 'mustn', 'so', 'by', 'these', 'has', 'wouldn', \"needn't\", 'off', \"that'll\", 'he', \"you've\", 'that', 'can', 'm', 't', 'because', 'above', 'your', \"don't\", 'here', 'him', 'yourself', 'are', 'not', \"haven't\", 'shan', \"won't\", 'the', \"shan't\", 'after', 'then', 'those', 'on', 'you', 'during', 'there', \"didn't\", 'to', 'mightn', 'i', \"doesn't\", 'theirs', \"you'd\", 'didn', 'any', 'shouldn', 'up', \"you'll\", 'don', 'we', 'what', 'as', 've', 'once', 'himself', 'am', \"wasn't\", 're', 'needn', 'about', 'from'}\n"
     ]
    }
   ],
   "source": [
    "from nltk.corpus import stopwords\n",
    "\n",
    "from nltk.tokenize import word_tokenize\n",
    "\n",
    "\n",
    "\n",
    "stop_words = set(stopwords.words('english'))\n",
    "\n",
    "print(len(stop_words))\n",
    "\n",
    "print(stop_words)"
   ]
  },
  {
   "cell_type": "code",
   "execution_count": 17,
   "id": "da34f21c",
   "metadata": {
    "execution": {
     "iopub.execute_input": "2024-11-23T19:08:55.177499Z",
     "iopub.status.busy": "2024-11-23T19:08:55.176621Z",
     "iopub.status.idle": "2024-11-23T19:08:55.193111Z",
     "shell.execute_reply": "2024-11-23T19:08:55.191820Z"
    },
    "executionInfo": {
     "elapsed": 303,
     "status": "ok",
     "timestamp": 1732390811553,
     "user": {
      "displayName": "Ahmed Lotfy",
      "userId": "06695974026339219292"
     },
     "user_tz": -120
    },
    "id": "3HjYd5MmgzQo",
    "outputId": "95711f27-bfc9-4ba9-aea8-39a76a3a35d3",
    "papermill": {
     "duration": 0.029137,
     "end_time": "2024-11-23T19:08:55.195430",
     "exception": false,
     "start_time": "2024-11-23T19:08:55.166293",
     "status": "completed"
    },
    "tags": []
   },
   "outputs": [
    {
     "name": "stdout",
     "output_type": "stream",
     "text": [
      "['simple', 'example', 'demonstrate', 'stopwords', 'removal', '.']\n"
     ]
    }
   ],
   "source": [
    "text = \"This is a simple example to demonstrate stopwords removal.\"\n",
    "\n",
    "words = word_tokenize(text)\n",
    "\n",
    "filtered_words = [word for word in words if word.lower() not in stop_words]\n",
    "\n",
    "print(filtered_words)\n"
   ]
  },
  {
   "cell_type": "code",
   "execution_count": 18,
   "id": "dbd4babe",
   "metadata": {
    "execution": {
     "iopub.execute_input": "2024-11-23T19:08:55.215423Z",
     "iopub.status.busy": "2024-11-23T19:08:55.214996Z",
     "iopub.status.idle": "2024-11-23T19:08:55.224172Z",
     "shell.execute_reply": "2024-11-23T19:08:55.223122Z"
    },
    "executionInfo": {
     "elapsed": 312,
     "status": "ok",
     "timestamp": 1732390897645,
     "user": {
      "displayName": "Ahmed Lotfy",
      "userId": "06695974026339219292"
     },
     "user_tz": -120
    },
    "id": "5arl3NHthuOG",
    "outputId": "c8f6f976-42b6-4338-9c97-be137d445c83",
    "papermill": {
     "duration": 0.021512,
     "end_time": "2024-11-23T19:08:55.226193",
     "exception": false,
     "start_time": "2024-11-23T19:08:55.204681",
     "status": "completed"
    },
    "tags": []
   },
   "outputs": [
    {
     "name": "stdout",
     "output_type": "stream",
     "text": [
      "701\n"
     ]
    },
    {
     "data": {
      "text/plain": [
       "'لك | سبعمائة | أنتم | غداة | ء | أينما | ثلاث | بعد | ذلكم | حاي | بكما | هلّا | سحقا | ريال | صراحة | إحدى | جوان | صهٍ | بؤسا | عوض | كيت | بلى | كأي | لهن | دينار | ة | لا | ليسا | أمّا | ما انفك | لسن | أنشأ | هلا | أ | مكانكما | إياكما | لهم | إنه | كى | مافتئ | مئة | بس | شَتَّانَ | فإذا | ثم | ثلاثين | ثمانين | تفعلين | ابتدأ | لستن | أبريل | م | ظاء | يونيو | إلى | كان | حين | اللواتي | أخذ | اللتيا | فيما | مكانكنّ | إي | ليست | أوّهْ | أيار | أين | كانون | إمّا | هبّ | هاتي | الذين | ضحوة | ثاني | شتانَ | نا | ثامن | لنا | فلس | إما | ه | طاء | ستين | طفق | تجاه | اللذان | ئ | عليه | صاد | عشر | همزة | يوليو | أربعمئة | كي | سبع | كثيرا | هيهات | إياها | انقلب | اللتان | يناير | غ | واحد | ظنَّ | ديسمبر | ليستا | هيّا | اللاتي | درهم | سبعة | رابع | إلّا | كأيّ | بمن | ثمَّ | كأيّن | لاسيما | لدن | هاء | شباط | ص | هذه | لي | بنا | آهاً | هَجْ | مكانكم | لكنَّ | آ | اتخذ | تلكما | آه | يفعلون | فيم | آناء | إنَّ | آي | ثلاثمئة | حادي | في | ث | واهاً | بهن | ستون | تين | واو | عشرة | صدقا | ذي | شين | أكثر | ما | ذاك | بغتة | أيّان | أرى | إن | ا | الآن | ثمانون | أفٍّ | قرش | اللائي | ثلاثاء | ولكن | حتى | حَذارِ | ل | أقل | إنما | يورو | ضاد | كن | أُفٍّ | إياكم | على | فلان | كأين | أي | لات | مرّة | ذِه | ألفى | هو | إليكَ | إلا | كل | وإذا | أنبأ | ممن | سوى | تموز | صهْ | تِه | هاته | خاصة | لام | ذانِ | سبعين | وُشْكَانَ | رُبَّ | أمس | هَيْهات | فضلا | ط | ق | بهم | بات | اخلولق | هيت | لكي | تعسا | ثمّ | بَلْهَ | منذ | إليكنّ | كرب | إذن | إياكن | اللتين | أفريل | ض | كأنّ | قبل | مئتان | أولالك | ذلك | أنًّ | خاء | مع | أيّ | ألف | إذ | لها | أنتِ | تشرين | لبيك | كيفما | جميع | دولار | لستم | أجل | له | إياهن | ظلّ | مثل | ساء | كاف | جنيه | فلا | آمينَ | أنّى | حار | راح | والذي | قلما | ؤ | مائة | غير | طاق | ست | إزاء | لكيلا | اثنان | ميم | أولاء | حيث | ذوا | ب | ليرة | تَيْنِ | رويدك | صبرا | سادس | قاف | لكما | كذلك | إنا | ذا | تحوّل | ثلاثمائة | طرا | عسى | عشرون | حمٌ | كلتا | هل | أولئك | ثالث | كاد | كلا | ن | قطّ | ومن | اثنين | شيكل | راء | س | حيثما | أوت | أربعاء | وما | استحال | نَّ | هاتين | ر | علم | تلقاء | فيها | آنفا | إذا | جير | زعم | هن | يمين | سين | أهلا | جمعة | كلما | خلف | صبر | سمعا | زاي | درى | أعطى | هذا | هنا | لولا | بطآن | لمّا | ترك | أفعل به | ثان | ثماني | ءَ | نيف | نعم | هم | تسعمئة | ولو | بضع | طالما | شبه | رأى | تسعمائة | إى | أخو | أم | أنا | أيضا | بما | بيد | هَاتِي | إيهٍ | ستمئة | عاد | لسنا | ياء | بكم | منه | اثني | غين | خمسون | تلك | هَذِي | الألى | تسعة | أنى | إياك | خمسة | ذلكما | ليس | لوما | ي | بخ | صباح | أعلم | أوشك | خبَّر | متى | كليهما | فيفري | نوفمبر | ذهب | والذين | هَاتَيْنِ | ظ | وراءَك | ثمّة | كأنما | أبٌ | نحو | وهو | تخذ | إياه | إليكما | ّأيّان | جيم | لست | عدَّ | بك | باء | أمسى | ماذا | سنتيم | هنالك | هيا | سرا | ج | إليك | لما | يوان | رجع | عيانا | د | أسكن | منها | جانفي | ذان | أيها | هذان | تارة | لستما | مذ | هَذَيْنِ | بسّ | سرعان | هؤلاء | لهما | حبيب | ذات | هَاتِه | مكانَك | تسعون | عامة | تاسع | نفس | بي | أصلا | ستة | ولا | لو | إياهم | جلل | هَاتانِ | أبدا | خمس | تِي | ليسوا | سبتمبر | لكن | ثمانية | كِخ | إياي | بهما | مما | إلَيْكَ | ثاء | زود | حاشا | هي | ذواتي | ين | ز | وإن | تسعين | ذه | ذين | حجا | تفعلون | ته | قد | أضحى | قاطبة | وإذ | يا | ذانك | أنتما | خال | خامس | آب | أغسطس | ذواتا | تاء | كلَّا | آها | يفعلان | هَذا | ع | حمدا | سبت | إليكم | وجد | عاشر | ثمة | لكم | أنتن | خلا | رزق | أوه | هَذِه | هذي | وَيْ | حقا | ثلاثون | أحد | من | أى | دال | غدا | عشرين | آذار | هناك | ارتدّ | هاهنا | ألا | كليكما | تانِك | مساء | علق | دون | فيه | سابع | ت | خمسمئة | أمد | عجبا | علًّ | فو | خلافا | اثنا | آهِ | أقبل | لعلَّ | مازال | ذو | سقى | فمن | عليك | فبراير | ح | نَخْ | حبذا | أمامك | تعلَّم | ذلكن | أصبح | تبدّل | شمال | انبرى | عين | لئن | أو | ها | لدى | تسع | مه | اربعين | دواليك | فرادى | عن | حاء | كلاهما | ش | به | إيانا | أكتوبر | فإن | مارس | ذيت | أربعة | آض | عَدَسْ | هكذا | صار | ى | هلم | آهٍ | دونك | عند | إليكن | لا سيما | كيف | أيلول | كذا | عل | نحن | إذاً | تي | خ | كسا | هاتان | أبو | ذِي | سبعمئة | حيَّ | حدَث | طَق | ليت | كما | أن | ذينك | حمو | مايو | سبعون | نون | لكنما | التي | شرع | كأن | ف | نبَّا | غالبا | مليم | بعض | تانِ | حزيران | أما | تينك | لن | إيه | ذال | بها | عما | فاء | هاكَ | هما | ثلاثة | سبحان | بعدا | اللذين | ذ | ك | تفعلان | إذما | أطعم | وا | تلكم | ماي | هاك | تحت | أمامكَ | جعل | بين | هذين | أول | أخٌ | و | أخبر | هَذانِ | أف | أنت | وهب | الألاء | ستمائة | كلّما | إياهما | عدا | أمام | جويلية | غادر | شتان | بماذا | مادام | ريث | ذَيْنِ | اربعون | أربع | بخٍ | خميس | حرى | خمسمائة | مهما | ما برح | كم | بكن | هَؤلاء | بَسْ | خمسين | الذي | أجمع | لعل | ما أفعله | بل | ثمنمئة | بئس | سوف | هللة | فوق | أيا | أربعمائة | أل | ورد | لم | لعمر | معاذ | قام | حسب | نيسان | ثمانمئة | ثمان'"
      ]
     },
     "execution_count": 18,
     "metadata": {},
     "output_type": "execute_result"
    }
   ],
   "source": [
    "Ar_SW1 = set(nltk.corpus.stopwords.words(\"arabic\"))\n",
    "\n",
    "print(len(Ar_SW1))\n",
    "\n",
    "' | '.join(Ar_SW1)"
   ]
  },
  {
   "cell_type": "code",
   "execution_count": 19,
   "id": "7d7a8c0e",
   "metadata": {
    "execution": {
     "iopub.execute_input": "2024-11-23T19:08:55.247199Z",
     "iopub.status.busy": "2024-11-23T19:08:55.246250Z",
     "iopub.status.idle": "2024-11-23T19:08:55.255825Z",
     "shell.execute_reply": "2024-11-23T19:08:55.254787Z"
    },
    "executionInfo": {
     "elapsed": 355,
     "status": "ok",
     "timestamp": 1732390980824,
     "user": {
      "displayName": "Ahmed Lotfy",
      "userId": "06695974026339219292"
     },
     "user_tz": -120
    },
    "id": "N4TWhoRri9rC",
    "outputId": "c96dd29a-573f-408a-925a-f7b7ba7d6445",
    "papermill": {
     "duration": 0.022175,
     "end_time": "2024-11-23T19:08:55.257787",
     "exception": false,
     "start_time": "2024-11-23T19:08:55.235612",
     "status": "completed"
    },
    "tags": []
   },
   "outputs": [
    {
     "name": "stdout",
     "output_type": "stream",
     "text": [
      "754\n"
     ]
    },
    {
     "data": {
      "text/plain": [
       "'إذ | إذا | إذما | إذن | أف | أقل | أكثر | ألا | إلا | التي | الذي | الذين | اللاتي | اللائي | اللتان | اللتيا | اللتين | اللذان | اللذين | اللواتي | إلى | إليك | إليكم | إليكما | إليكن | أم | أما | أما | إما | أن | إن | إنا | أنا | أنت | أنتم | أنتما | أنتن | إنما | إنه | أنى | أنى | آه | آها | أو | أولاء | أولئك | أوه | آي | أي | أيها | إي | أين | أين | أينما | إيه | بخ | بس | بعد | بعض | بك | بكم | بكم | بكما | بكن | بل | بلى | بما | بماذا | بمن | بنا | به | بها | بهم | بهما | بهن | بي | بين | بيد | تلك | تلكم | تلكما | ته | تي | تين | تينك | ثم | ثمة | حاشا | حبذا | حتى | حيث | حيثما | حين | خلا | دون | ذا | ذات | ذاك | ذان | ذانك | ذلك | ذلكم | ذلكما | ذلكن | ذه | ذو | ذوا | ذواتا | ذواتي | ذي | ذين | ذينك | ريث | سوف | سوى | شتان | عدا | عسى | عل | على | عليك | عليه | عما | عن | عند | غير | فإذا | فإن | فلا | فمن | في | فيم | فيما | فيه | فيها | قد | كأن | كأنما | كأي | كأين | كذا | كذلك | كل | كلا | كلاهما | كلتا | كلما | كليكما | كليهما | كم | كم | كما | كي | كيت | كيف | كيفما | لا | لاسيما | لدى | لست | لستم | لستما | لستن | لسن | لسنا | لعل | لك | لكم | لكما | لكن | لكنما | لكي | لكيلا | لم | لما | لن | لنا | له | لها | لهم | لهما | لهن | لو | لولا | لوما | لي | لئن | ليت | ليس | ليسا | ليست | ليستا | ليسوا | ما | ماذا | متى | مذ | مع | مما | ممن | من | منه | منها | منذ | مه | مهما | نحن | نحو | نعم | ها | هاتان | هاته | هاتي | هاتين | هاك | هاهنا | هذا | هذان | هذه | هذي | هذين | هكذا | هل | هلا | هم | هما | هن | هنا | هناك | هنالك | هو | هؤلاء | هي | هيا | هيت | هيهات | والذي | والذين | وإذ | وإذا | وإن | ولا | ولكن | ولو | وما | ومن | وهو | يا | أبٌ | أخٌ | حمٌ | فو | أنتِ | يناير | فبراير | مارس | أبريل | مايو | يونيو | يوليو | أغسطس | سبتمبر | أكتوبر | نوفمبر | ديسمبر | جانفي | فيفري | مارس | أفريل | ماي | جوان | جويلية | أوت | كانون | شباط | آذار | نيسان | أيار | حزيران | تموز | آب | أيلول | تشرين | دولار | دينار | ريال | درهم | ليرة | جنيه | قرش | مليم | فلس | هللة | سنتيم | يورو | ين | يوان | شيكل | واحد | اثنان | ثلاثة | أربعة | خمسة | ستة | سبعة | ثمانية | تسعة | عشرة | أحد | اثنا | اثني | إحدى | ثلاث | أربع | خمس | ست | سبع | ثماني | تسع | عشر | ثمان | سبت | أحد | اثنين | ثلاثاء | أربعاء | خميس | جمعة | أول | ثان | ثاني | ثالث | رابع | خامس | سادس | سابع | ثامن | تاسع | عاشر | حادي | أ | ب | ت | ث | ج | ح | خ | د | ذ | ر | ز | س | ش | ص | ض | ط | ظ | ع | غ | ف | ق | ك | ل | م | ن | ه | و | ي | ء | ى | آ | ؤ | ئ | أ | ة | ألف | باء | تاء | ثاء | جيم | حاء | خاء | دال | ذال | راء | زاي | سين | شين | صاد | ضاد | طاء | ظاء | عين | غين | فاء | قاف | كاف | لام | ميم | نون | هاء | واو | ياء | همزة | ي | نا | ك | كن | ه | إياه | إياها | إياهما | إياهم | إياهن | إياك | إياكما | إياكم | إياك | إياكن | إياي | إيانا | أولالك | تانِ | تانِك | تِه | تِي | تَيْنِ | ثمّ | ثمّة | ذانِ | ذِه | ذِي | ذَيْنِ | هَؤلاء | هَاتانِ | هَاتِه | هَاتِي | هَاتَيْنِ | هَذا | هَذانِ | هَذِه | هَذِي | هَذَيْنِ | الألى | الألاء | أل | أنّى | أيّ | ّأيّان | أنّى | أيّ | ّأيّان | ذيت | كأيّ | كأيّن | بضع | فلان | وا | آمينَ | آهِ | آهٍ | آهاً | أُفٍّ | أُفٍّ | أفٍّ | أمامك | أمامكَ | أوّهْ | إلَيْكَ | إلَيْكَ | إليكَ | إليكنّ | إيهٍ | بخٍ | بسّ | بَسْ | بطآن | بَلْهَ | حاي | حَذارِ | حيَّ | حيَّ | دونك | رويدك | سرعان | شتانَ | شَتَّانَ | صهْ | صهٍ | طاق | طَق | عَدَسْ | كِخ | مكانَك | مكانَك | مكانَك | مكانكم | مكانكما | مكانكنّ | نَخْ | هاكَ | هَجْ | هلم | هيّا | هَيْهات | وا | واهاً | وراءَك | وُشْكَانَ | وَيْ | يفعلان | تفعلان | يفعلون | تفعلون | تفعلين | اتخذ | ألفى | تخذ | ترك | تعلَّم | جعل | حجا | حبيب | خال | حسب | خال | درى | رأى | زعم | صبر | ظنَّ | عدَّ | علم | غادر | ذهب | وجد | ورد | وهب | أسكن | أطعم | أعطى | رزق | زود | سقى | كسا | أخبر | أرى | أعلم | أنبأ | حدَث | خبَّر | نبَّا | أفعل به | ما أفعله | بئس | ساء | طالما | قلما | لات | لكنَّ | ءَ | أجل | إذاً | أمّا | إمّا | إنَّ | أنًّ | أى | إى | أيا | ب | ثمَّ | جلل | جير | رُبَّ | س | علًّ | ف | كأنّ | كلَّا | كى | ل | لات | لعلَّ | لكنَّ | لكنَّ | م | نَّ | هلّا | وا | أل | إلّا | ت | ك | لمّا | ن | ه | و | ا | ي | تجاه | تلقاء | جميع | حسب | سبحان | شبه | لعمر | مثل | معاذ | أبو | أخو | حمو | فو | مئة | مئتان | ثلاثمئة | أربعمئة | خمسمئة | ستمئة | سبعمئة | ثمنمئة | تسعمئة | مائة | ثلاثمائة | أربعمائة | خمسمائة | ستمائة | سبعمائة | ثمانمئة | تسعمائة | عشرون | ثلاثون | اربعون | خمسون | ستون | سبعون | ثمانون | تسعون | عشرين | ثلاثين | اربعين | خمسين | ستين | سبعين | ثمانين | تسعين | بضع | نيف | أجمع | جميع | عامة | عين | نفس | لا سيما | أصلا | أهلا | أيضا | بؤسا | بعدا | بغتة | تعسا | حقا | حمدا | خلافا | خاصة | دواليك | سحقا | سرا | سمعا | صبرا | صدقا | صراحة | طرا | عجبا | عيانا | غالبا | فرادى | فضلا | قاطبة | كثيرا | لبيك | معاذ | أبدا | إزاء | أصلا | الآن | أمد | أمس | آنفا | آناء | أنّى | أول | أيّان | تارة | ثمّ | ثمّة | حقا | صباح | مساء | ضحوة | عوض | غدا | غداة | قطّ | كلّما | لدن | لمّا | مرّة | قبل | خلف | أمام | فوق | تحت | يمين | شمال | ارتدّ | استحال | أصبح | أضحى | آض | أمسى | انقلب | بات | تبدّل | تحوّل | حار | رجع | راح | صار | ظلّ | عاد | غدا | كان | ما انفك | ما برح | مادام | مازال | مافتئ | ابتدأ | أخذ | اخلولق | أقبل | انبرى | أنشأ | أوشك | جعل | حرى | شرع | طفق | علق | قام | كرب | كاد | هبّ'"
      ]
     },
     "execution_count": 19,
     "metadata": {},
     "output_type": "execute_result"
    }
   ],
   "source": [
    "from nltk.corpus import stopwords\n",
    "\n",
    "Ar_SW2 = stopwords.words('arabic')\n",
    "\n",
    "print(len(Ar_SW2))\n",
    "\n",
    "' | '.join(Ar_SW2)"
   ]
  },
  {
   "cell_type": "code",
   "execution_count": 20,
   "id": "7bc24c4c",
   "metadata": {
    "execution": {
     "iopub.execute_input": "2024-11-23T19:08:55.279847Z",
     "iopub.status.busy": "2024-11-23T19:08:55.279464Z",
     "iopub.status.idle": "2024-11-23T19:09:08.250334Z",
     "shell.execute_reply": "2024-11-23T19:09:08.249156Z"
    },
    "executionInfo": {
     "elapsed": 6783,
     "status": "ok",
     "timestamp": 1732391024464,
     "user": {
      "displayName": "Ahmed Lotfy",
      "userId": "06695974026339219292"
     },
     "user_tz": -120
    },
    "id": "hZLe29F_jDDc",
    "outputId": "6fbe00c2-da79-4d20-c8fc-65b28e004cd8",
    "papermill": {
     "duration": 12.984575,
     "end_time": "2024-11-23T19:09:08.252699",
     "exception": false,
     "start_time": "2024-11-23T19:08:55.268124",
     "status": "completed"
    },
    "tags": []
   },
   "outputs": [
    {
     "name": "stdout",
     "output_type": "stream",
     "text": [
      "Collecting Arabic-Stopwords\r\n",
      "  Downloading Arabic_Stopwords-0.4.3-py3-none-any.whl.metadata (8.9 kB)\r\n",
      "Requirement already satisfied: pyarabic>=0.6.2 in /opt/conda/lib/python3.10/site-packages (from Arabic-Stopwords) (0.6.15)\r\n",
      "Requirement already satisfied: six>=1.14.0 in /opt/conda/lib/python3.10/site-packages (from pyarabic>=0.6.2->Arabic-Stopwords) (1.16.0)\r\n",
      "Downloading Arabic_Stopwords-0.4.3-py3-none-any.whl (360 kB)\r\n",
      "\u001b[2K   \u001b[90m━━━━━━━━━━━━━━━━━━━━━━━━━━━━━━━━━━━━━━━━\u001b[0m \u001b[32m360.5/360.5 kB\u001b[0m \u001b[31m6.4 MB/s\u001b[0m eta \u001b[36m0:00:00\u001b[0m\r\n",
      "\u001b[?25hInstalling collected packages: Arabic-Stopwords\r\n",
      "Successfully installed Arabic-Stopwords-0.4.3\r\n"
     ]
    }
   ],
   "source": [
    "!pip install Arabic-Stopwords"
   ]
  },
  {
   "cell_type": "code",
   "execution_count": 21,
   "id": "8e7b2e54",
   "metadata": {
    "execution": {
     "iopub.execute_input": "2024-11-23T19:09:08.275219Z",
     "iopub.status.busy": "2024-11-23T19:09:08.274277Z",
     "iopub.status.idle": "2024-11-23T19:09:08.531185Z",
     "shell.execute_reply": "2024-11-23T19:09:08.530310Z"
    },
    "executionInfo": {
     "elapsed": 344,
     "status": "ok",
     "timestamp": 1732391078136,
     "user": {
      "displayName": "Ahmed Lotfy",
      "userId": "06695974026339219292"
     },
     "user_tz": -120
    },
    "id": "DHnzQvwAjfRA",
    "papermill": {
     "duration": 0.270596,
     "end_time": "2024-11-23T19:09:08.533400",
     "exception": false,
     "start_time": "2024-11-23T19:09:08.262804",
     "status": "completed"
    },
    "tags": []
   },
   "outputs": [],
   "source": [
    "import arabicstopwords.arabicstopwords as stp"
   ]
  },
  {
   "cell_type": "code",
   "execution_count": 22,
   "id": "c3691140",
   "metadata": {
    "execution": {
     "iopub.execute_input": "2024-11-23T19:09:08.555476Z",
     "iopub.status.busy": "2024-11-23T19:09:08.554599Z",
     "iopub.status.idle": "2024-11-23T19:09:08.561402Z",
     "shell.execute_reply": "2024-11-23T19:09:08.560219Z"
    },
    "executionInfo": {
     "elapsed": 318,
     "status": "ok",
     "timestamp": 1732391105833,
     "user": {
      "displayName": "Ahmed Lotfy",
      "userId": "06695974026339219292"
     },
     "user_tz": -120
    },
    "id": "nokCyO1pjgXj",
    "outputId": "b460871c-c438-4f91-8e6f-c40d9952ae4b",
    "papermill": {
     "duration": 0.019859,
     "end_time": "2024-11-23T19:09:08.563326",
     "exception": false,
     "start_time": "2024-11-23T19:09:08.543467",
     "status": "completed"
    },
    "tags": []
   },
   "outputs": [
    {
     "data": {
      "text/plain": [
       "508"
      ]
     },
     "execution_count": 22,
     "metadata": {},
     "output_type": "execute_result"
    }
   ],
   "source": [
    "len(stp.classed_stopwords_list())"
   ]
  },
  {
   "cell_type": "code",
   "execution_count": 23,
   "id": "ea65b994",
   "metadata": {
    "execution": {
     "iopub.execute_input": "2024-11-23T19:09:08.585363Z",
     "iopub.status.busy": "2024-11-23T19:09:08.584449Z",
     "iopub.status.idle": "2024-11-23T19:09:08.591159Z",
     "shell.execute_reply": "2024-11-23T19:09:08.590169Z"
    },
    "executionInfo": {
     "elapsed": 314,
     "status": "ok",
     "timestamp": 1732391129186,
     "user": {
      "displayName": "Ahmed Lotfy",
      "userId": "06695974026339219292"
     },
     "user_tz": -120
    },
    "id": "F_mpcN4Yjr-W",
    "outputId": "cf1609ea-63f1-4fc7-f425-55863108a420",
    "papermill": {
     "duration": 0.019637,
     "end_time": "2024-11-23T19:09:08.593013",
     "exception": false,
     "start_time": "2024-11-23T19:09:08.573376",
     "status": "completed"
    },
    "tags": []
   },
   "outputs": [
    {
     "data": {
      "text/plain": [
       "dict_keys(['أن', 'إن', 'عل', 'كأن', 'لعل', 'لكن', 'ليت', 'ثنا', 'بيد', 'سوى', 'غير', 'لاسيما', 'أولئك', 'أولئكم', 'أولاء', 'أولالك', 'تان', 'تانك', 'تلك', 'تلكم', 'تلكما', 'ته', 'تي', 'تين', 'تينك', 'ثم', 'ثمة', 'ذا', 'ذاك', 'ذان', 'ذانك', 'ذلك', 'ذلكم', 'ذلكما', 'ذلكن', 'ذه', 'ذوا', 'ذواتا', 'ذواتي', 'ذوو', 'ذوي', 'ذي', 'ذين', 'ذينك', 'كذلك', 'هؤلاء', 'هاتان', 'هاته', 'هاتي', 'هاتين', 'هاهنا', 'هذا', 'هذان', 'هذه', 'هذي', 'هذين', 'هكذا', 'هنا', 'هناك', 'هنالك', 'أي', 'إذ', 'إذا', 'ابن', 'بعض', 'تجاه', 'تلقاء', 'جميع', 'حسب', 'حيث', 'سبحان', 'شبه', 'شطر', 'كل', 'لعمر', 'لما', 'مثل', 'مع', 'معاذ', 'نحو', 'متى', 'أنى', 'أيان', 'أين', 'بكم', 'بما', 'بماذا', 'بمن', 'كم', 'كيف', 'ما', 'ماذا', 'مما', 'ممن', 'من', 'أينما', 'حيثما', 'كيفما', 'مهما', 'أقل', 'أكثر', 'آها', 'بس', 'حاي', 'صه', 'طاق', 'طق', 'عدس', 'كخ', 'نخ', 'هج', 'وا', 'واها', 'وي', 'آمين', 'آه', 'أف', 'أمامك', 'أوه', 'إليك', 'إليكم', 'إليكما', 'إليكن', 'إيه', 'بخ', 'بطآن', 'بله', 'حذار', 'حي', 'دونك', 'رويدك', 'سرعان', 'شتان', 'عليك', 'مكانك', 'مكانكم', 'مكانكما', 'مكانكن', 'مه', 'ها', 'هاؤم', 'هاك', 'هلم', 'هيا', 'هيت', 'هيهات', 'وراءك', 'وشكان', 'ويكأن', 'الألاء', 'الألى', 'التي', 'الذي', 'الذين', 'اللائي', 'اللاتي', 'اللتان', 'اللتيا', 'اللتين', 'اللذان', 'اللذين', 'اللواتي', 'ذات', 'أب', 'أبا', 'أبو', 'أبي', 'أخ', 'أخا', 'أخو', 'أخي', 'حم', 'حما', 'حمو', 'حمي', 'ذو', 'فا', 'فو', 'في', 'لن', 'لو', 'لولا', 'لوما', 'نعم', 'بئس', 'حبذا', 'ساء', 'ساءما', 'نعما', 'لا', 'لات', 'حتى', 'كي', 'أجمع', 'عامة', 'عين', 'كلا', 'كلاهما', 'كلتا', 'كليكما', 'كليهما', 'نفس', 'ء', 'آ', 'أ', 'ؤ', 'ئ', 'ب', 'ة', 'ت', 'ث', 'ج', 'ح', 'خ', 'د', 'ذ', 'ر', 'ز', 'س', 'ش', 'ص', 'ض', 'ط', 'ظ', 'ع', 'غ', 'ف', 'ق', 'ك', 'ل', 'م', 'ن', 'ه', 'و', 'ى', 'ي', 'إلا', 'حاشا', 'خلا', 'عدا', 'فيم', 'فيما', 'هل', 'سوف', 'هلا', 'قد', 'إما', 'كأنما', 'كما', 'لكي', 'لكيلا', 'إلى', 'بلا', 'رب', 'على', 'عن', 'مذ', 'منذ', 'عما', 'لم', 'أجل', 'إذن', 'إي', 'بلى', 'جلل', 'جير', 'إذما', 'لئن', 'أما', 'ألا', 'أم', 'أو', 'بل', 'أيا', 'لئلا', 'بك', 'بكما', 'بكن', 'بنا', 'به', 'بها', 'بي', 'لك', 'لكم', 'لكما', 'لنا', 'له', 'لها', 'لي', 'أنا', 'أنت', 'أنتم', 'أنتما', 'أنتن', 'نحن', 'هم', 'هما', 'هن', 'هو', 'هي', 'إياك', 'إياكم', 'إياكما', 'إياكن', 'إيانا', 'إياه', 'إياها', 'إياهم', 'إياهما', 'إياهن', 'إياي', 'بدون', 'دون', 'ريث', 'عند', 'عندما', 'عوض', 'قبل', 'قط', 'كلما', 'لدن', 'لدى', 'آناء', 'آنفا', 'أبدا', 'أثناء', 'أصلا', 'أمد', 'أمس', 'أول', 'الآن', 'بعد', 'تارة', 'حين', 'زمان', 'ساعة', 'شهر', 'صباح', 'ضحوة', 'غدا', 'غداة', 'غروب', 'لحظة', 'ليل', 'مرة', 'مساء', 'وقت', 'يومئذ', 'خلال', 'أسفل', 'أعلى', 'أمام', 'إزاء', 'بين', 'تحت', 'جنب', 'جنوب', 'حوالى', 'حول', 'خلف', 'شرق', 'شمال', 'ضمن', 'غرب', 'فوق', 'يمين', 'طالما', 'قلما', 'أخذ', 'أقبل', 'أنشأ', 'أوشك', 'ابتدأ', 'اخلولق', 'انبرى', 'جعل', 'حرى', 'شرع', 'طفق', 'عسى', 'علق', 'قام', 'كاد', 'كرب', 'لازالت', 'هب', 'إنما', 'لكنما', 'آض', 'أصبح', 'أضحى', 'أمسى', 'ارتد', 'استحال', 'انقلب', 'بات', 'تبدل', 'تحول', 'حار', 'راح', 'رجع', 'صار', 'ظل', 'عاد', 'كان', 'لست', 'لستم', 'لستما', 'لستن', 'لسن', 'لسنا', 'ليس', 'ليسا', 'ليست', 'ليستا', 'ليسوا', 'ماانفك', 'مابرح', 'مادام', 'مازال', 'مافتئ', 'بضع', 'ذيت', 'فلان', 'كأي', 'كأين', 'كذا', 'كيت', 'فقط', 'بن', 'أيضا', 'بينما', 'جدا', 'حينما', 'مثلما', 'حسبما', 'آنذاك', 'آنئذ', 'أية', 'وراءكما', 'وراءكم', 'وراءكن', 'وراء', 'بعدما', 'بئسما', 'قبلما', 'بعدئذ', 'حينئذ', 'عندئذ', 'إنا', 'هاذين', 'لازال', 'لازلت', 'لازلنا', 'لازلتما', 'لازلتم', 'لازلتن', 'لازالا', 'لازالتا', 'لازالوا', 'لازلن', 'مازلت', 'مازلنا', 'مازلتما', 'مازلتم', 'مازلتن', 'مازالا', 'مازالتا', 'مازالوا', 'مازلن', 'مادمت', 'مادمنا', 'مادمتما', 'مادمتم', 'مادمتن', 'مادامت', 'ماداما', 'مادامتا', 'ماداموا', 'مادمن', 'مابرحت', 'مابرحنا', 'مابرحتما', 'مابرحتم', 'مابرحتن', 'مابرحا', 'مابرحتا', 'مابرحوا', 'مابرحن', 'مافتئت', 'مافتئنا', 'مافتئتما', 'مافتئتم', 'مافتئتن', 'مافتئا', 'مافتئتا', 'مافتئوا', 'مافتئن', 'ماانفككت', 'ماانفككنا', 'ماانفككتما', 'ماانفككتم', 'ماانفككتن', 'ماانفكت', 'ماانفكا', 'ماانفكتا', 'ماانفكوا', 'ماانفككن'])"
      ]
     },
     "execution_count": 23,
     "metadata": {},
     "output_type": "execute_result"
    }
   ],
   "source": [
    "stp.classed_stopwords_list()"
   ]
  },
  {
   "cell_type": "code",
   "execution_count": 24,
   "id": "f509f95f",
   "metadata": {
    "execution": {
     "iopub.execute_input": "2024-11-23T19:09:08.615182Z",
     "iopub.status.busy": "2024-11-23T19:09:08.614363Z",
     "iopub.status.idle": "2024-11-23T19:09:08.621098Z",
     "shell.execute_reply": "2024-11-23T19:09:08.620203Z"
    },
    "executionInfo": {
     "elapsed": 318,
     "status": "ok",
     "timestamp": 1732391224428,
     "user": {
      "displayName": "Ahmed Lotfy",
      "userId": "06695974026339219292"
     },
     "user_tz": -120
    },
    "id": "uoh0udwJjs10",
    "outputId": "3ec8abf2-cdfb-4205-afc4-943063ebdccd",
    "papermill": {
     "duration": 0.020057,
     "end_time": "2024-11-23T19:09:08.623225",
     "exception": false,
     "start_time": "2024-11-23T19:09:08.603168",
     "status": "completed"
    },
    "tags": []
   },
   "outputs": [
    {
     "data": {
      "text/plain": [
       "13465"
      ]
     },
     "execution_count": 24,
     "metadata": {},
     "output_type": "execute_result"
    }
   ],
   "source": [
    "len(stp.stopwords_list())"
   ]
  },
  {
   "cell_type": "code",
   "execution_count": 25,
   "id": "9556b59a",
   "metadata": {
    "execution": {
     "iopub.execute_input": "2024-11-23T19:09:08.645494Z",
     "iopub.status.busy": "2024-11-23T19:09:08.645133Z",
     "iopub.status.idle": "2024-11-23T19:09:08.651105Z",
     "shell.execute_reply": "2024-11-23T19:09:08.650210Z"
    },
    "executionInfo": {
     "elapsed": 310,
     "status": "ok",
     "timestamp": 1732391494418,
     "user": {
      "displayName": "Ahmed Lotfy",
      "userId": "06695974026339219292"
     },
     "user_tz": -120
    },
    "id": "l91lr427kEFm",
    "outputId": "c4a31d9d-092d-4412-84f6-0bbc47545986",
    "papermill": {
     "duration": 0.019191,
     "end_time": "2024-11-23T19:09:08.653087",
     "exception": false,
     "start_time": "2024-11-23T19:09:08.633896",
     "status": "completed"
    },
    "tags": []
   },
   "outputs": [
    {
     "data": {
      "text/plain": [
       "False"
      ]
     },
     "execution_count": 25,
     "metadata": {},
     "output_type": "execute_result"
    }
   ],
   "source": [
    "stp.is_stop(u'ممكن')"
   ]
  },
  {
   "cell_type": "code",
   "execution_count": 26,
   "id": "50e47f69",
   "metadata": {
    "execution": {
     "iopub.execute_input": "2024-11-23T19:09:08.675512Z",
     "iopub.status.busy": "2024-11-23T19:09:08.674750Z",
     "iopub.status.idle": "2024-11-23T19:09:08.681132Z",
     "shell.execute_reply": "2024-11-23T19:09:08.680112Z"
    },
    "executionInfo": {
     "elapsed": 308,
     "status": "ok",
     "timestamp": 1732391508544,
     "user": {
      "displayName": "Ahmed Lotfy",
      "userId": "06695974026339219292"
     },
     "user_tz": -120
    },
    "id": "paxIYG5pk2dq",
    "outputId": "e43556bb-8d92-41a4-bdcf-c16a1d0a5dfa",
    "papermill": {
     "duration": 0.019841,
     "end_time": "2024-11-23T19:09:08.683238",
     "exception": false,
     "start_time": "2024-11-23T19:09:08.663397",
     "status": "completed"
    },
    "tags": []
   },
   "outputs": [
    {
     "data": {
      "text/plain": [
       "True"
      ]
     },
     "execution_count": 26,
     "metadata": {},
     "output_type": "execute_result"
    }
   ],
   "source": [
    "stp.is_stop('منكم')"
   ]
  },
  {
   "cell_type": "code",
   "execution_count": 27,
   "id": "8a978a2b",
   "metadata": {
    "execution": {
     "iopub.execute_input": "2024-11-23T19:09:08.705426Z",
     "iopub.status.busy": "2024-11-23T19:09:08.705067Z",
     "iopub.status.idle": "2024-11-23T19:09:08.711808Z",
     "shell.execute_reply": "2024-11-23T19:09:08.710750Z"
    },
    "executionInfo": {
     "elapsed": 323,
     "status": "ok",
     "timestamp": 1732391532205,
     "user": {
      "displayName": "Ahmed Lotfy",
      "userId": "06695974026339219292"
     },
     "user_tz": -120
    },
    "id": "VFRXPkwalJdN",
    "outputId": "55b0257c-2a80-4119-9046-406059525495",
    "papermill": {
     "duration": 0.020169,
     "end_time": "2024-11-23T19:09:08.713706",
     "exception": false,
     "start_time": "2024-11-23T19:09:08.693537",
     "status": "completed"
    },
    "tags": []
   },
   "outputs": [
    {
     "data": {
      "text/plain": [
       "['وبينك',\n",
       " 'بينهم',\n",
       " 'بينكن',\n",
       " 'فبينكم',\n",
       " 'وبينكم',\n",
       " 'بينك',\n",
       " 'وبينهن',\n",
       " 'فبينه',\n",
       " 'وبينه',\n",
       " 'فبين',\n",
       " 'بيننا',\n",
       " 'فبيني',\n",
       " 'فبينهن',\n",
       " 'بينكما',\n",
       " 'بينكم',\n",
       " 'وبينكن',\n",
       " 'بينها',\n",
       " 'فبينهم',\n",
       " 'فبينكن',\n",
       " 'بينهن',\n",
       " 'وبينكما',\n",
       " 'وبيني',\n",
       " 'وبين',\n",
       " 'وبينهم',\n",
       " 'فبينهما',\n",
       " 'بينه',\n",
       " 'فبينك',\n",
       " 'وبينهما',\n",
       " 'فبينكما',\n",
       " 'بين',\n",
       " 'وبيننا',\n",
       " 'بينهما',\n",
       " 'بيني',\n",
       " 'وبينها',\n",
       " 'فبينها',\n",
       " 'فبيننا']"
      ]
     },
     "execution_count": 27,
     "metadata": {},
     "output_type": "execute_result"
    }
   ],
   "source": [
    "stp.stopword_forms(\"بين\")"
   ]
  },
  {
   "cell_type": "code",
   "execution_count": 28,
   "id": "20fdd9d2",
   "metadata": {
    "execution": {
     "iopub.execute_input": "2024-11-23T19:09:08.736308Z",
     "iopub.status.busy": "2024-11-23T19:09:08.735886Z",
     "iopub.status.idle": "2024-11-23T19:09:08.742515Z",
     "shell.execute_reply": "2024-11-23T19:09:08.741466Z"
    },
    "executionInfo": {
     "elapsed": 312,
     "status": "ok",
     "timestamp": 1732391566538,
     "user": {
      "displayName": "Ahmed Lotfy",
      "userId": "06695974026339219292"
     },
     "user_tz": -120
    },
    "id": "rm8tRybdlPO8",
    "outputId": "c90a1570-0770-424f-ca7b-54d2b649b9f8",
    "papermill": {
     "duration": 0.020575,
     "end_time": "2024-11-23T19:09:08.744868",
     "exception": false,
     "start_time": "2024-11-23T19:09:08.724293",
     "status": "completed"
    },
    "tags": []
   },
   "outputs": [
    {
     "data": {
      "text/plain": [
       "36"
      ]
     },
     "execution_count": 28,
     "metadata": {},
     "output_type": "execute_result"
    }
   ],
   "source": [
    "len(stp.stopword_forms(\"بين\"))"
   ]
  },
  {
   "cell_type": "code",
   "execution_count": 29,
   "id": "59490061",
   "metadata": {
    "execution": {
     "iopub.execute_input": "2024-11-23T19:09:08.768370Z",
     "iopub.status.busy": "2024-11-23T19:09:08.767976Z",
     "iopub.status.idle": "2024-11-23T19:09:08.773645Z",
     "shell.execute_reply": "2024-11-23T19:09:08.772665Z"
    },
    "executionInfo": {
     "elapsed": 365,
     "status": "ok",
     "timestamp": 1732391851631,
     "user": {
      "displayName": "Ahmed Lotfy",
      "userId": "06695974026339219292"
     },
     "user_tz": -120
    },
    "id": "Q1Xa62_PlVaB",
    "papermill": {
     "duration": 0.019489,
     "end_time": "2024-11-23T19:09:08.775623",
     "exception": false,
     "start_time": "2024-11-23T19:09:08.756134",
     "status": "completed"
    },
    "tags": []
   },
   "outputs": [],
   "source": [
    "stopwords_arabic = [\n",
    "\n",
    "    'ال', 'في', 'من', 'على', 'إلى', 'أن', 'و', 'مع', 'عن', 'كما', 'إلا', 'ل',\n",
    "\n",
    "    'أو', 'هو', 'هي', 'كنت', 'كنا', 'منذ', 'كان', 'يكون', 'متى', 'أين', 'لم', 'لذا',\n",
    "\n",
    "    'كل', 'هذا', 'هذه', 'إلى', 'بعض', 'ولكن', 'تلك', 'أين', 'أنني', 'لا', 'أي', 'هذا'\n",
    "\n",
    "]"
   ]
  },
  {
   "cell_type": "code",
   "execution_count": 30,
   "id": "e46db16c",
   "metadata": {
    "execution": {
     "iopub.execute_input": "2024-11-23T19:09:08.798415Z",
     "iopub.status.busy": "2024-11-23T19:09:08.798056Z",
     "iopub.status.idle": "2024-11-23T19:09:08.804235Z",
     "shell.execute_reply": "2024-11-23T19:09:08.803251Z"
    },
    "executionInfo": {
     "elapsed": 413,
     "status": "ok",
     "timestamp": 1732392111927,
     "user": {
      "displayName": "Ahmed Lotfy",
      "userId": "06695974026339219292"
     },
     "user_tz": -120
    },
    "id": "najL_GcRmdNJ",
    "outputId": "a6e82517-798d-4ef1-d693-34ee382a9434",
    "papermill": {
     "duration": 0.019796,
     "end_time": "2024-11-23T19:09:08.806066",
     "exception": false,
     "start_time": "2024-11-23T19:09:08.786270",
     "status": "completed"
    },
    "tags": []
   },
   "outputs": [
    {
     "name": "stdout",
     "output_type": "stream",
     "text": [
      "النص بعد إزالة الكلمات الشائعة: ذهب الطالب الجامعة يوم الإثنين أصدقائه وكان الجو جميلا جدا. لن أذهب الوقت.\n"
     ]
    }
   ],
   "source": [
    "# النص الذي سنعمل عليه\n",
    "\n",
    "text = \"ذهب الطالب إلى الجامعة يوم الإثنين مع أصدقائه وكان الجو جميلا جدا. لن أذهب في هذا الوقت.\"\n",
    "\n",
    "\n",
    "\n",
    "# تقسيم النص إلى كلمات\n",
    "\n",
    "words = text.split()\n",
    "\n",
    "\n",
    "\n",
    "# تصفية النص لإزالة الكلمات الشائعة\n",
    "\n",
    "filtered_text = ' '.join([word for word in words if word not in stopwords_arabic])\n",
    "\n",
    "\n",
    "\n",
    "print(\"النص بعد إزالة الكلمات الشائعة:\", filtered_text)"
   ]
  },
  {
   "cell_type": "code",
   "execution_count": 31,
   "id": "b4434b93",
   "metadata": {
    "execution": {
     "iopub.execute_input": "2024-11-23T19:09:08.828828Z",
     "iopub.status.busy": "2024-11-23T19:09:08.828431Z",
     "iopub.status.idle": "2024-11-23T19:09:08.835426Z",
     "shell.execute_reply": "2024-11-23T19:09:08.834574Z"
    },
    "executionInfo": {
     "elapsed": 425,
     "status": "ok",
     "timestamp": 1732392136926,
     "user": {
      "displayName": "Ahmed Lotfy",
      "userId": "06695974026339219292"
     },
     "user_tz": -120
    },
    "id": "qI57GVzUmmfn",
    "outputId": "19bda6b2-9990-4322-ac78-84963be99541",
    "papermill": {
     "duration": 0.020781,
     "end_time": "2024-11-23T19:09:08.837503",
     "exception": false,
     "start_time": "2024-11-23T19:09:08.816722",
     "status": "completed"
    },
    "tags": []
   },
   "outputs": [
    {
     "data": {
      "text/plain": [
       "'I went university bus monday friend 9:00'"
      ]
     },
     "execution_count": 31,
     "metadata": {},
     "output_type": "execute_result"
    }
   ],
   "source": [
    "SW  = ['on','at','with','the','by','to','this','my']\n",
    "\n",
    "\n",
    "\n",
    "T = 'I went to the university by bus On this monday with My friend at 9:00'\n",
    "\n",
    "\n",
    "\n",
    "' '.join([i for i in T.split() if  not i.lower() in SW])"
   ]
  }
 ],
 "metadata": {
  "colab": {
   "authorship_tag": "ABX9TyNCRaYuzNVYGzgLGZ3BsHOp",
   "provenance": []
  },
  "kaggle": {
   "accelerator": "none",
   "dataSources": [],
   "dockerImageVersionId": 30786,
   "isGpuEnabled": false,
   "isInternetEnabled": true,
   "language": "python",
   "sourceType": "notebook"
  },
  "kernelspec": {
   "display_name": "Python 3",
   "language": "python",
   "name": "python3"
  },
  "language_info": {
   "codemirror_mode": {
    "name": "ipython",
    "version": 3
   },
   "file_extension": ".py",
   "mimetype": "text/x-python",
   "name": "python",
   "nbconvert_exporter": "python",
   "pygments_lexer": "ipython3",
   "version": "3.10.14"
  },
  "papermill": {
   "default_parameters": {},
   "duration": 26.265223,
   "end_time": "2024-11-23T19:09:10.070333",
   "environment_variables": {},
   "exception": null,
   "input_path": "__notebook__.ipynb",
   "output_path": "__notebook__.ipynb",
   "parameters": {},
   "start_time": "2024-11-23T19:08:43.805110",
   "version": "2.6.0"
  }
 },
 "nbformat": 4,
 "nbformat_minor": 5
}
